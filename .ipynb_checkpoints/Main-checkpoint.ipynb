{
 "cells": [
  {
   "cell_type": "code",
   "execution_count": null,
   "metadata": {},
   "outputs": [],
   "source": [
    "import importlib\n",
    "resources = importlib.import_module(\"resources\")\n",
    "import resources.MonteCarlo as MC\n",
    "\n",
    "import numpy as np\n",
    "import pandas as pd\n",
    "import random\n",
    "random.seed(2010)\n",
    "\n",
    "inv_f = lambda x : MC.inverse_continuous_power_law(x,1,-2)\n",
    "X = MC.RandomVariable(\"power law, alpha = -2, for x > 1\",inv_f)"
   ]
  },
  {
   "cell_type": "code",
   "execution_count": null,
   "metadata": {},
   "outputs": [],
   "source": [
    "#Import Data\n",
    "\n",
    "# Possible Tasks\n",
    "# Auto-encoding\n",
    "# Predicting next frame\n",
    "# regerssion\n",
    "\n",
    "\n",
    "# Free music arxiv (predict next frame)? \n",
    "# Face age (regression)?\n",
    "# Movie Data (predict next frame)?\n",
    "# Speech audio data (preidct next frame)?\n",
    "\n",
    "\n",
    "\n",
    "\n"
   ]
  },
  {
   "cell_type": "code",
   "execution_count": null,
   "metadata": {},
   "outputs": [],
   "source": [
    "#Construct Network\n",
    "\n",
    "\n",
    "\n",
    "# Define sudoMin loss function\n",
    "\n",
    "\n",
    "# Convolutional layers"
   ]
  },
  {
   "cell_type": "code",
   "execution_count": null,
   "metadata": {},
   "outputs": [],
   "source": [
    "#Visualize Nodes"
   ]
  }
 ],
 "metadata": {
  "kernelspec": {
   "display_name": "Python 3",
   "language": "python",
   "name": "python3"
  },
  "language_info": {
   "codemirror_mode": {
    "name": "ipython",
    "version": 3
   },
   "file_extension": ".py",
   "mimetype": "text/x-python",
   "name": "python",
   "nbconvert_exporter": "python",
   "pygments_lexer": "ipython3",
   "version": "3.6.5"
  }
 },
 "nbformat": 4,
 "nbformat_minor": 2
}
