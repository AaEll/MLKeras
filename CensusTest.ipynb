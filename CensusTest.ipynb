{
 "cells": [
  {
   "cell_type": "code",
   "execution_count": 1,
   "metadata": {},
   "outputs": [
    {
     "name": "stderr",
     "output_type": "stream",
     "text": [
      "Using TensorFlow backend.\n"
     ]
    }
   ],
   "source": [
    "from __future__ import print_function\n",
    "import importlib\n",
    "resources = importlib.import_module(\"resources\")\n",
    "import resources.MonteCarlo as MC\n",
    "\n",
    "import numpy as np\n",
    "import pandas as pd\n",
    "import random\n",
    "random.seed(2010)\n",
    "\n",
    "import matplotlib.pyplot as plt\n",
    "%matplotlib inline \n",
    "\n",
    "import keras\n",
    "from keras.layers import Dense\n",
    "from keras.layers import BatchNormalization\n",
    "from keras.models import Sequential\n",
    "from keras.callbacks import EarlyStopping\n",
    "from keras.constraints import NonNeg\n",
    "from keras import backend as K"
   ]
  },
  {
   "cell_type": "code",
   "execution_count": 2,
   "metadata": {},
   "outputs": [],
   "source": [
    "#Import Data\n",
    "Data = pd.read_csv('data/preprocessed_census_ASC_2010/part-00000-ebe3c7e4-7e5b-4362-886a-88a5842f7d23-c000.csv')\n",
    "X = Data['tot_population']\n",
    "Y = Data['position']"
   ]
  },
  {
   "cell_type": "code",
   "execution_count": null,
   "metadata": {},
   "outputs": [],
   "source": [
    "batch_size = 128\n",
    "no_input  = 1\n",
    "epochs = 10000\n",
    "lambd  = 1/1000\n",
    "results = {}\n",
    "no_output_range = range(3,7)\n",
    "def customLoss(yTrue,yPred):\n",
    "    return K.sum(K.min(K.square(K.square(yTrue-yPred)),axis = 1))+lambd*K.sum(K.square(yTrue-yPred))\n",
    "for no_output in no_output_range:\n",
    "    model = Sequential()\n",
    "    model.add(Dense(32, activation='selu',\n",
    "                    kernel_initializer='random_uniform', bias_initializer='zeros',kernel_constraint=NonNeg(),\n",
    "                    input_shape=[no_input]))\n",
    "    model.add(Dense(32, activation='selu',kernel_constraint=NonNeg()))\n",
    "    model.add(Dense(32, activation='relu',kernel_constraint=NonNeg()))\n",
    "    model.add(Dense(no_output,kernel_constraint=NonNeg(), activation='linear'))\n",
    "\n",
    "    model.compile(loss=customLoss,\n",
    "                  optimizer=keras.optimizers.Nadam(lr=0.01, beta_1=0.9, beta_2=0.999, epsilon=None, schedule_decay=0.004),\n",
    "                  metrics=['accuracy'])\n",
    "\n",
    "    model.fit(X, Y,\n",
    "              batch_size=batch_size,\n",
    "              epochs=epochs,\n",
    "              verbose=0,\n",
    "              validation_data=(X, Y))\n",
    "    score = model.evaluate(X, Y, verbose=0)\n",
    "    print('Test loss:', score[0])\n",
    "\n",
    "    YPred= model.predict(X)\n",
    "    maxError = np.max(np.min(np.abs(YPred - Y.as_matrix().reshape(Y.shape[0],1)),axis=1),axis=0)\n",
    "    results[no_output] = maxError\n",
    "print(results)"
   ]
  },
  {
   "cell_type": "code",
   "execution_count": null,
   "metadata": {},
   "outputs": [],
   "source": [
    "no_output_range = range(1,5)\n",
    "plt.plot(results.keys(),results.values())"
   ]
  },
  {
   "cell_type": "code",
   "execution_count": null,
   "metadata": {
    "scrolled": true
   },
   "outputs": [],
   "source": [
    "mini = 7.65e9\n",
    "maxi = 10e9\n",
    "X1 = X[(mini<X) & (X< maxi)]\n",
    "Y1 = Y[(mini<X) & (X< maxi)]\n",
    "\n",
    "plt.plot(X1,Y1,'xk',ms= .05)\n"
   ]
  },
  {
   "cell_type": "code",
   "execution_count": null,
   "metadata": {},
   "outputs": [],
   "source": [
    "plt.plot(X,Y,'xk',ms= .2)\n"
   ]
  },
  {
   "cell_type": "code",
   "execution_count": null,
   "metadata": {},
   "outputs": [],
   "source": [
    "X_space = np.linspace(-1, 35000, 200)\n",
    "#Y1,Y2 = zip(*model.predict(X))\n",
    "model_output_linspace = zip(*model.predict(X_space))\n",
    "\n",
    "plt.scatter(X, Y,s = .2, c='black',marker= '^',zorder=2)\n",
    "#plt.scatter(x_test, y_test, s = .2 ,c='black',zorder=2)\n",
    "\n",
    "for Y_pred in model_output_linspace:\n",
    "    line, =plt.plot(X_space,Y_pred, '.b',linewidth = 3,zorder=1)\n",
    "    line.set_color(\"black\")\n",
    "#plt.plot(X,Y3, 'b-',linewidth = 3)\n",
    "#plt.plot(X,Y4, 'y-',linewidth = 3)\n",
    "\n",
    "#plt.ylim(0,300)\n",
    "# Add title and x, y labels\n",
    "plt.title(\"Marathon Test\", fontsize=16, fontweight='bold')\n"
   ]
  },
  {
   "cell_type": "code",
   "execution_count": null,
   "metadata": {},
   "outputs": [],
   "source": [
    "X.astype"
   ]
  },
  {
   "cell_type": "code",
   "execution_count": null,
   "metadata": {},
   "outputs": [],
   "source": []
  }
 ],
 "metadata": {
  "kernelspec": {
   "display_name": "Python 3",
   "language": "python",
   "name": "python3"
  },
  "language_info": {
   "codemirror_mode": {
    "name": "ipython",
    "version": 3
   },
   "file_extension": ".py",
   "mimetype": "text/x-python",
   "name": "python",
   "nbconvert_exporter": "python",
   "pygments_lexer": "ipython3",
   "version": "3.6.7"
  }
 },
 "nbformat": 4,
 "nbformat_minor": 2
}
