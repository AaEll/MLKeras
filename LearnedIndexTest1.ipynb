{
 "cells": [
  {
   "cell_type": "code",
   "execution_count": 1,
   "metadata": {},
   "outputs": [
    {
     "name": "stderr",
     "output_type": "stream",
     "text": [
      "Using TensorFlow backend.\n"
     ]
    }
   ],
   "source": [
    "from __future__ import print_function\n",
    "import importlib\n",
    "resources = importlib.import_module(\"resources\")\n",
    "import resources.MonteCarlo as MC\n",
    "\n",
    "import numpy as np\n",
    "import pandas as pd\n",
    "import random\n",
    "random.seed(2010)\n",
    "\n",
    "import keras\n",
    "from keras.layers import Dense\n",
    "from keras.layers import BatchNormalization\n",
    "from keras.models import Sequential\n",
    "from keras.callbacks import EarlyStopping\n",
    "from keras.constraints import NonNeg\n",
    "from keras import backend as K"
   ]
  },
  {
   "cell_type": "code",
   "execution_count": 2,
   "metadata": {},
   "outputs": [],
   "source": [
    "#Import Data\n",
    "Data = pd.read_csv('data/regression/Twitter/Twitter.data')\n",
    "Data['rank_0.0']=Data['0.0'].rank()\n",
    "X = Data['0.0']\n",
    "Y = Data['rank_0.0']"
   ]
  },
  {
   "cell_type": "code",
   "execution_count": 3,
   "metadata": {},
   "outputs": [
    {
     "name": "stdout",
     "output_type": "stream",
     "text": [
      "Test loss: 812360690805.794\n"
     ]
    },
    {
     "name": "stderr",
     "output_type": "stream",
     "text": [
      "C:\\ProgramData\\Anaconda3\\lib\\site-packages\\ipykernel_launcher.py:29: FutureWarning: Method .as_matrix will be removed in a future version. Use .values instead.\n"
     ]
    },
    {
     "name": "stdout",
     "output_type": "stream",
     "text": [
      "Test loss: 154162463846.2211\n",
      "Test loss: 68409337012.80895\n",
      "Test loss: 37504667272.50518\n",
      "{1: 3854440.0, 2: 3839414.5, 3: 1882840.75, 4: 2681190.25}\n"
     ]
    }
   ],
   "source": [
    "batch_size = 128\n",
    "no_input  = 1\n",
    "epochs = 350\n",
    "results = {}\n",
    "no_output_range = range(1,5)\n",
    "def customLoss(yTrue,yPred):\n",
    "    return K.sum(K.min(K.square(yTrue-yPred),axis = 1))\n",
    "for no_output in no_output_range:\n",
    "    model = Sequential()\n",
    "    model.add(Dense(32, activation='selu',\n",
    "                    kernel_initializer='random_uniform', bias_initializer='zeros',kernel_constraint=NonNeg(),\n",
    "                    input_shape=[no_input]))\n",
    "    model.add(Dense(128, activation='selu',kernel_constraint=NonNeg()))\n",
    "    model.add(Dense(128, activation='relu',kernel_constraint=NonNeg()))\n",
    "    model.add(Dense(no_output,kernel_constraint=NonNeg(), activation='linear'))\n",
    "\n",
    "    model.compile(loss=customLoss,\n",
    "                  optimizer=keras.optimizers.Nadam(lr=0.01, beta_1=0.9, beta_2=0.999, epsilon=None, schedule_decay=0.004),\n",
    "                  metrics=['accuracy'])\n",
    "\n",
    "    model.fit(X, Y,\n",
    "              batch_size=batch_size,\n",
    "              epochs=epochs,\n",
    "              verbose=0,\n",
    "              validation_data=(X, Y))\n",
    "    score = model.evaluate(X, Y, verbose=0)\n",
    "    print('Test loss:', score[0])\n",
    "\n",
    "    YPred= model.predict(X)\n",
    "    maxError = np.max(np.min(np.abs(YPred - Y.as_matrix().reshape(Y.shape[0],1)),axis=1),axis=0)\n",
    "    results[no_output] = maxError\n",
    "print(results)"
   ]
  },
  {
   "cell_type": "code",
   "execution_count": 6,
   "metadata": {},
   "outputs": [
    {
     "data": {
      "text/plain": [
       "[<matplotlib.lines.Line2D at 0x2a8191a3358>]"
      ]
     },
     "execution_count": 6,
     "metadata": {},
     "output_type": "execute_result"
    },
    {
     "data": {
      "image/png": "[encoded data removed]",
      "text/plain": [
       "<Figure size 432x288 with 1 Axes>"
      ]
     },
     "metadata": {
      "needs_background": "light"
     },
     "output_type": "display_data"
    }
   ],
   "source": [
    "import matplotlib.pyplot as plt\n",
    "%matplotlib inline \n",
    "no_output_range = range(1,5)\n",
    "plt.plot(results.keys(),results.values())"
   ]
  },
  {
   "cell_type": "code",
   "execution_count": 11,
   "metadata": {},
   "outputs": [],
   "source": [
    "abs(-1)"
   ]
  },
  {
   "cell_type": "code",
   "execution_count": null,
   "metadata": {},
   "outputs": [],
   "source": []
  }
 ],
 "metadata": {
  "kernelspec": {
   "display_name": "Python 3",
   "language": "python",
   "name": "python3"
  },
  "language_info": {
   "codemirror_mode": {
    "name": "ipython",
    "version": 3
   },
   "file_extension": ".py",
   "mimetype": "text/x-python",
   "name": "python",
   "nbconvert_exporter": "python",
   "pygments_lexer": "ipython3",
   "version": "3.6.7"
  }
 },
 "nbformat": 4,
 "nbformat_minor": 2
}
