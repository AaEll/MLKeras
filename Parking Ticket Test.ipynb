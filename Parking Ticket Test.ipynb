{
 "cells": [
  {
   "cell_type": "code",
   "execution_count": 1,
   "metadata": {},
   "outputs": [
    {
     "name": "stderr",
     "output_type": "stream",
     "text": [
      "Using TensorFlow backend.\n"
     ]
    }
   ],
   "source": [
    "from __future__ import print_function\n",
    "import importlib\n",
    "resources = importlib.import_module(\"resources\")\n",
    "import resources.MonteCarlo as MC\n",
    "\n",
    "import numpy as np\n",
    "import pandas as pd\n",
    "import random\n",
    "random.seed(2010)\n",
    "\n",
    "import matplotlib.pyplot as plt\n",
    "%matplotlib inline \n",
    "\n",
    "import keras\n",
    "import tensorflow as tf\n",
    "from keras.layers import Dense, BatchNormalization, Multiply, Lambda, LeakyReLU\n",
    "from keras.models import Model\n",
    "from keras.initializers import RandomNormal\n",
    "from keras.callbacks import EarlyStopping\n",
    "from keras.constraints import NonNeg\n",
    "from keras import backend as K"
   ]
  },
  {
   "cell_type": "code",
   "execution_count": 6,
   "metadata": {},
   "outputs": [],
   "source": [
    "normalization_const = 1e7\n",
    "\n",
    "#Import Data\n",
    "Data = pd.read_csv('data/preprocessedlosAngParking/part-00000-a8814381-7490-4ac5-8769-145ad7e2824a-c000.csv').sample(frac = 1/10000)\n",
    "Data['SN'] = pd.to_numeric(Data['SN'], errors ='coerce')\n",
    "Data['position'] = pd.to_numeric(Data['position'], errors ='coerce')\n",
    "Data.dropna()\n",
    "Data = Data[Data['SN'] > 4.3e9]\n",
    "Data = Data/normalization_const\n",
    "X = Data['SN']\n",
    "Y = Data['position']"
   ]
  },
  {
   "cell_type": "code",
   "execution_count": 51,
   "metadata": {},
   "outputs": [
    {
     "name": "stdout",
     "output_type": "stream",
     "text": [
      "1.2855212195931238\n",
      "{1: 1.183395028387451}\n"
     ]
    }
   ],
   "source": [
    "batch_size = 256\n",
    "no_input  = 1\n",
    "epochs = 6000\n",
    "lambd  = 1e-1\n",
    "\n",
    "results = {}\n",
    "models  = []\n",
    "no_output_range = range(1,2)\n",
    "def customLoss(yTrue,yPred):\n",
    "    return K.sum(K.min(K.square(yTrue-yPred),axis = 0))+lambd*K.sum(K.square(yTrue-yPred))\n",
    "\n",
    "for no_output in no_output_range:\n",
    "    neg_pos_mask = tf.constant(np.random.choice( [-1,1],[1,no_output]),dtype = tf.float32)\n",
    "    \n",
    "    _input_= keras.layers.Input(shape=(no_input,))\n",
    "    \n",
    "    #mask = Lambda( lambda x : neg_pos_mask)(_input_) # _input_ is just added to get this to compile\n",
    "    l1 = Dense(32, activation='linear',\n",
    "                    kernel_initializer= RandomNormal(), bias_initializer='zeros',\n",
    "                    kernel_constraint=NonNeg(),\n",
    "                    input_shape=[no_input])(_input_)\n",
    "    l1a =keras.layers.LeakyReLU(alpha=0.1)(l1)\n",
    "    l1b = BatchNormalization()(l1a)\n",
    "    l2 = Dense(16, activation='linear',\n",
    "                    kernel_initializer=RandomNormal(), bias_initializer='zeros',\n",
    "                    kernel_constraint=NonNeg())(l1b)\n",
    "    l2b =keras.layers.LeakyReLU(alpha=0.1)(l2)    \n",
    "    \"\"\"l3 = Dense(8, activation='relu',\n",
    "                    kernel_initializer=RandomNormal(), bias_initializer='zeros',\n",
    "                    kernel_constraint=NonNeg())(l2b)\n",
    "    l3b = BatchNormalization()(l3)\"\"\"\n",
    "    l3 = Dense(no_output, activation='linear',\n",
    "                    kernel_initializer=RandomNormal(), bias_initializer='zeros',\n",
    "                    kernel_constraint=NonNeg())(l2b)\n",
    "\n",
    "    _output_ =l3 # Multiply()([l3,mask])\n",
    "    \n",
    "    model = keras.models.Model(inputs=_input_ , outputs=_output_)\n",
    "    \n",
    "    model.compile(loss=customLoss, metrics=[],\n",
    "                  optimizer=keras.optimizers.Nadam(lr=1, beta_1=0.9, beta_2=0.999, epsilon=None, schedule_decay=0.004))\n",
    "    model.fit(X, Y,\n",
    "              batch_size=batch_size,\n",
    "              epochs=epochs,\n",
    "              validation_data=(X, Y),\n",
    "              verbose=0)\n",
    "    score = model.evaluate(X, Y, verbose=0)\n",
    "    print(score)\n",
    "    YPred= model.predict(X)\n",
    "    maxError = np.max(np.min(np.abs(YPred - Y.values.reshape(Y.shape[0],1)),axis=1),axis=0)\n",
    "    results[no_output] = maxError\n",
    "    models.append(model)\n",
    "print(results)"
   ]
  },
  {
   "cell_type": "code",
   "execution_count": 42,
   "metadata": {},
   "outputs": [
    {
     "data": {
      "text/plain": [
       "[<matplotlib.lines.Line2D at 0x2370daa2f60>]"
      ]
     },
     "execution_count": 42,
     "metadata": {},
     "output_type": "execute_result"
    },
    {
     "data": {
      "image/png": "[encoded data removed]",
      "text/plain": [
       "<Figure size 432x288 with 1 Axes>"
      ]
     },
     "metadata": {
      "needs_background": "light"
     },
     "output_type": "display_data"
    }
   ],
   "source": [
    "no_output_range = range(1,5)\n",
    "plt.plot(results.keys(),results.values())"
   ]
  },
  {
   "cell_type": "code",
   "execution_count": 52,
   "metadata": {},
   "outputs": [
    {
     "data": {
      "image/png": "[encoded data removed]",
      "text/plain": [
       "<Figure size 432x288 with 1 Axes>"
      ]
     },
     "metadata": {
      "needs_background": "light"
     },
     "output_type": "display_data"
    }
   ],
   "source": [
    "X_space = np.linspace(430, 434.5, 400)\n",
    "#Y1,Y2 = zip(*model.predict(X))\n",
    "i = 0 \n",
    "for model in models:\n",
    "    i+=1\n",
    "    plt.clf()\n",
    "    model_output_linspace = zip(*model.predict(X_space))\n",
    "\n",
    "    plt.scatter(X, Y,s = .2, c='blue',marker= '^',zorder=2)\n",
    "    #plt.scatter(x_test, y_test, s = .2 ,c='black',zorder=2)\n",
    "\n",
    "    for Y_pred in model_output_linspace:\n",
    "        line, = plt.plot(X_space,Y_pred, '.b',linewidth = 1,zorder=1)\n",
    "        line.set_color(\"black\")\n",
    "    #plt.plot(X,Y3, 'b-',linewidth = 3)\n",
    "    #plt.plot(X,Y4, 'y-',linewidth = 3)\n",
    "\n",
    "    #plt.ylim(0,300)\n",
    "    # Add title and x, y labels\n",
    "    plt.savefig(\"results/Test_Parking_{number}.jpg\".format(number = i))\n"
   ]
  },
  {
   "cell_type": "code",
   "execution_count": 27,
   "metadata": {},
   "outputs": [
    {
     "data": {
      "text/plain": [
       "[<matplotlib.lines.Line2D at 0x23704ce36a0>]"
      ]
     },
     "execution_count": 27,
     "metadata": {},
     "output_type": "execute_result"
    },
    {
     "data": {
      "image/png": "[encoded data removed]",
      "text/plain": [
       "<Figure size 432x288 with 1 Axes>"
      ]
     },
     "metadata": {
      "needs_background": "light"
     },
     "output_type": "display_data"
    }
   ],
   "source": [
    "plt.plot(X,Y,'xk',ms= .2)\n"
   ]
  },
  {
   "cell_type": "code",
   "execution_count": 28,
   "metadata": {},
   "outputs": [],
   "source": []
  },
  {
   "cell_type": "code",
   "execution_count": null,
   "metadata": {},
   "outputs": [],
   "source": []
  }
 ],
 "metadata": {
  "kernelspec": {
   "display_name": "Python 3",
   "language": "python",
   "name": "python3"
  }
 },
 "nbformat": 4,
 "nbformat_minor": 2
}
