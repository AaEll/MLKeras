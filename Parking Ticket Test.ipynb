{
 "cells": [
  {
   "cell_type": "code",
   "execution_count": 1,
   "metadata": {},
   "outputs": [
    {
     "name": "stderr",
     "output_type": "stream",
     "text": [
      "Using TensorFlow backend.\n"
     ]
    }
   ],
   "source": [
    "from __future__ import print_function\n",
    "import importlib\n",
    "resources = importlib.import_module(\"resources\")\n",
    "import resources.MonteCarlo as MC\n",
    "\n",
    "import numpy as np\n",
    "import pandas as pd\n",
    "import random\n",
    "random.seed(2010)\n",
    "\n",
    "import matplotlib.pyplot as plt\n",
    "%matplotlib inline \n",
    "\n",
    "import keras\n",
    "import tensorflow as tf\n",
    "from keras.layers import Dense, BatchNormalization, Multiply, Lambda, LeakyReLU\n",
    "from keras.models import Model\n",
    "from keras.initializers import RandomNormal\n",
    "from keras.callbacks import EarlyStopping\n",
    "from keras.constraints import NonNeg\n",
    "from keras import backend as K"
   ]
  },
  {
   "cell_type": "code",
   "execution_count": 2,
   "metadata": {},
   "outputs": [
    {
     "name": "stderr",
     "output_type": "stream",
     "text": [
      "C:\\ProgramData\\Anaconda3\\lib\\site-packages\\IPython\\core\\interactiveshell.py:3020: DtypeWarning: Columns (0) have mixed types. Specify dtype option on import or set low_memory=False.\n",
      "  interactivity=interactivity, compiler=compiler, result=result)\n"
     ]
    }
   ],
   "source": [
    "normalization_const = 1e7\n",
    "\n",
    "#Import Data\n",
    "Data = pd.read_csv('data/preprocessedlosAngParking/part-00000-a8814381-7490-4ac5-8769-145ad7e2824a-c000.csv').sample(frac = 1/1000)\n",
    "Data['SN'] = pd.to_numeric(Data['SN'], errors ='coerce')\n",
    "Data['position'] = pd.to_numeric(Data['position'], errors ='coerce')\n",
    "Data.dropna()\n",
    "Data = Data[Data['SN'] > 1.3e9]\n",
    "Data = Data/normalization_const\n",
    "X = Data['SN'].values\n",
    "Y = Data['position'].values"
   ]
  },
  {
   "cell_type": "code",
   "execution_count": 4,
   "metadata": {
    "scrolled": true
   },
   "outputs": [
    {
     "name": "stdout",
     "output_type": "stream",
     "text": [
      "[0.009765769384233914, 0.007057405399977399]\n",
      "[0.010465194864774425, 0.008864821780263137]\n",
      "[0.014734461957169306, 0.01188405623022897]\n",
      "[0.01373665518902332, 0.009528346951678804]\n",
      "[0.057334067317865556, 0.00584053827153025]\n",
      "[0.021172793099366847, 0.00848234454556268]\n",
      "{4: 0.8693635560821533, 5: 0.7642270423721313, 6: 0.48663241220550535, 7: 0.682504782850647, 8: 1.2165749170135498, 9: 0.6010561438545227}\n"
     ]
    }
   ],
   "source": [
    "from keras.callbacks import ModelCheckpoint\n",
    "\n",
    "batch_size = 256\n",
    "no_input  = 1\n",
    "epochs = 15000\n",
    "lambd  = 1e-3\n",
    "\n",
    "results = {}\n",
    "models  = []\n",
    "no_output_range = range(4,10)\n",
    "def customLoss(yTrue,yPred):\n",
    "    #return K.sum(K.square(yTrue-yPred))\n",
    "    return K.sum(K.min(K.square(yTrue - yPred),axis = 0))\\\n",
    "    +lambd*K.sum(K.square(yTrue-yPred))\n",
    "\n",
    "def customMetric(yTrue,yPred):\n",
    "    #return K.sum(K.square(yTrue-yPred))\n",
    "    return K.max(K.min(K.abs(yTrue -yPred),axis = 0))\n",
    "\n",
    "for no_output in no_output_range:\n",
    "    neg_pos_mask = tf.constant(np.random.choice( [-1,1],[1,no_output]),dtype = tf.float32)\n",
    "    \n",
    "    _input_= keras.layers.Input(shape=(no_input,))\n",
    "    \n",
    "    #mask = Lambda( lambda x : neg_pos_mask)(_input_) # _input_ is just added to get this to compile\n",
    "    l1 = Dense(64, activation='linear',\n",
    "                    kernel_initializer= RandomNormal(), bias_initializer='zeros',\n",
    "                    kernel_constraint=NonNeg(),                   \n",
    "                    input_shape=[no_input])(_input_)\n",
    "    l1a =keras.layers.LeakyReLU(alpha=0.1)(l1)\n",
    "    l1b = BatchNormalization()(l1a)\n",
    "    l2 = Dense(64, activation='linear',\n",
    "                    kernel_initializer=RandomNormal(), bias_initializer='zeros',\n",
    "                    kernel_constraint=NonNeg())(l1b)\n",
    "    l2b =keras.layers.LeakyReLU(alpha=0.1)(l2)    \n",
    "    l3 = Dense(no_output, activation='linear',\n",
    "                    kernel_initializer=RandomNormal(), bias_initializer='zeros',\n",
    "                    kernel_constraint=NonNeg())(l2b)\n",
    "\n",
    "    _output_ =l3\n",
    "    #_output_ = Multiply()([l3,mask])\n",
    "    \n",
    "    model = keras.models.Model(inputs=_input_ , outputs=_output_)\n",
    "    filepath = \"results\\parking_weights{}.hdf5\".format(no_output)\n",
    "    checkpoint = ModelCheckpoint(filepath, monitor=\"val_customMetric\", verbose=0, mode = 'min', save_best_only=True)\n",
    "    model.compile(loss=customLoss, metrics=[customMetric],\n",
    "                  optimizer=keras.optimizers.Nadam(lr=.01, beta_1=0.9, beta_2=0.999, epsilon=None, schedule_decay=0.0001))\n",
    "    model.fit(X, Y,\n",
    "              batch_size=batch_size,\n",
    "              epochs=epochs,\n",
    "              validation_data=(X, Y),\n",
    "              callbacks=[checkpoint],\n",
    "              verbose=0)\n",
    "    model.load_weights(filepath)    \n",
    "    score = model.evaluate(X, Y, verbose=0)\n",
    "    print(score)\n",
    "    YPred= model.predict(X)\n",
    "    maxError = np.max(np.min(np.abs(YPred - Y.reshape(Y.shape[0],1)),axis=1),axis=0)\n",
    "    results[no_output] = maxError\n",
    "    models.append(model)\n",
    "print(results)"
   ]
  },
  {
   "cell_type": "code",
   "execution_count": 5,
   "metadata": {},
   "outputs": [
    {
     "data": {
      "text/plain": [
       "[<matplotlib.lines.Line2D at 0x1d9c10612b0>]"
      ]
     },
     "execution_count": 5,
     "metadata": {},
     "output_type": "execute_result"
    },
    {
     "data": {
      "image/png": "[encoded data removed]",
      "text/plain": [
       "<Figure size 432x288 with 1 Axes>"
      ]
     },
     "metadata": {
      "needs_background": "light"
     },
     "output_type": "display_data"
    }
   ],
   "source": [
    "plt.plot(results.keys(),results.values())"
   ]
  },
  {
   "cell_type": "code",
   "execution_count": 6,
   "metadata": {},
   "outputs": [
    {
     "data": {
      "image/png": "[encoded data removed]",
      "text/plain": [
       "<Figure size 432x288 with 1 Axes>"
      ]
     },
     "metadata": {
      "needs_background": "light"
     },
     "output_type": "display_data"
    }
   ],
   "source": [
    "X_space = np.linspace(430, 434.5, 400)\n",
    "#Y1,Y2 = zip(*model.predict(X))\n",
    "i = 0 \n",
    "for model in models:\n",
    "    i+=1\n",
    "    plt.clf()\n",
    "    model_output_linspace = zip(*model.predict(X_space))\n",
    "\n",
    "    plt.scatter(X, Y,s = .2, c='blue',marker= '^',zorder=2)\n",
    "    #plt.scatter(x_test, y_test, s = .2 ,c='black',zorder=2)\n",
    "\n",
    "    for Y_pred in model_output_linspace:\n",
    "        line, = plt.plot(X_space,Y_pred, '.b',linewidth = 1,zorder=1)\n",
    "        line.set_color(\"black\")\n",
    "    #plt.plot(X,Y3, 'b-',linewidth = 3)\n",
    "    #plt.plot(X,Y4, 'y-',linewidth = 3)\n",
    "\n",
    "    #plt.ylim(0,100)\n",
    "    # Add title and x, y labels\n",
    "    plt.savefig(\"results/Test_Parking_{number}.jpg\".format(number = i))\n"
   ]
  },
  {
   "cell_type": "code",
   "execution_count": null,
   "metadata": {},
   "outputs": [],
   "source": []
  },
  {
   "cell_type": "code",
   "execution_count": 68,
   "metadata": {},
   "outputs": [
    {
     "name": "stdout",
     "output_type": "stream",
     "text": [
      "(2, 410)\n",
      "(410,)\n"
     ]
    },
    {
     "ename": "ValueError",
     "evalue": "operands could not be broadcast together with shapes (410,2) (410,) ",
     "output_type": "error",
     "traceback": [
      "\u001b[1;31m---------------------------------------------------------------------------\u001b[0m",
      "\u001b[1;31mValueError\u001b[0m                                Traceback (most recent call last)",
      "\u001b[1;32m<ipython-input-68-f7eff2fe8aee>\u001b[0m in \u001b[0;36m<module>\u001b[1;34m\u001b[0m\n\u001b[0;32m      1\u001b[0m \u001b[0mprint\u001b[0m\u001b[1;33m(\u001b[0m\u001b[0mX\u001b[0m\u001b[1;33m.\u001b[0m\u001b[0mshape\u001b[0m\u001b[1;33m)\u001b[0m\u001b[1;33m\u001b[0m\u001b[1;33m\u001b[0m\u001b[0m\n\u001b[0;32m      2\u001b[0m \u001b[0mprint\u001b[0m\u001b[1;33m(\u001b[0m\u001b[0mY\u001b[0m\u001b[1;33m.\u001b[0m\u001b[0mshape\u001b[0m\u001b[1;33m)\u001b[0m\u001b[1;33m\u001b[0m\u001b[1;33m\u001b[0m\u001b[0m\n\u001b[1;32m----> 3\u001b[1;33m \u001b[0mX\u001b[0m\u001b[1;33m.\u001b[0m\u001b[0mtranspose\u001b[0m\u001b[1;33m(\u001b[0m\u001b[1;33m)\u001b[0m\u001b[1;33m-\u001b[0m\u001b[0mY\u001b[0m\u001b[1;33m.\u001b[0m\u001b[0mvalues\u001b[0m\u001b[1;33m\u001b[0m\u001b[1;33m\u001b[0m\u001b[0m\n\u001b[0m",
      "\u001b[1;31mValueError\u001b[0m: operands could not be broadcast together with shapes (410,2) (410,) "
     ]
    }
   ],
   "source": [
    "print(X.shape)\n",
    "print(Y.shape)\n",
    "X.transpose()-Y.values"
   ]
  },
  {
   "cell_type": "code",
   "execution_count": 66,
   "metadata": {},
   "outputs": [
    {
     "name": "stdout",
     "output_type": "stream",
     "text": [
      "(3,)\n",
      "(4, 3)\n"
     ]
    },
    {
     "ename": "ValueError",
     "evalue": "Length of passed values is 4, index implies 3",
     "output_type": "error",
     "traceback": [
      "\u001b[1;31m---------------------------------------------------------------------------\u001b[0m",
      "\u001b[1;31mValueError\u001b[0m                                Traceback (most recent call last)",
      "\u001b[1;32m<ipython-input-66-7e153359bbf1>\u001b[0m in \u001b[0;36m<module>\u001b[1;34m\u001b[0m\n\u001b[0;32m      4\u001b[0m \u001b[0mprint\u001b[0m\u001b[1;33m(\u001b[0m\u001b[0mv\u001b[0m\u001b[1;33m.\u001b[0m\u001b[0mshape\u001b[0m\u001b[1;33m)\u001b[0m\u001b[1;33m\u001b[0m\u001b[1;33m\u001b[0m\u001b[0m\n\u001b[0;32m      5\u001b[0m \u001b[0mprint\u001b[0m\u001b[1;33m(\u001b[0m\u001b[0mm\u001b[0m\u001b[1;33m.\u001b[0m\u001b[0mshape\u001b[0m\u001b[1;33m)\u001b[0m\u001b[1;33m\u001b[0m\u001b[1;33m\u001b[0m\u001b[0m\n\u001b[1;32m----> 6\u001b[1;33m \u001b[0mprint\u001b[0m\u001b[1;33m(\u001b[0m\u001b[0mm\u001b[0m\u001b[1;33m-\u001b[0m\u001b[0mv\u001b[0m\u001b[1;33m)\u001b[0m\u001b[1;33m\u001b[0m\u001b[1;33m\u001b[0m\u001b[0m\n\u001b[0m",
      "\u001b[1;32mC:\\ProgramData\\Anaconda3\\lib\\site-packages\\pandas\\core\\ops.py\u001b[0m in \u001b[0;36mwrapper\u001b[1;34m(left, right)\u001b[0m\n\u001b[0;32m   1069\u001b[0m         \u001b[0mresult\u001b[0m \u001b[1;33m=\u001b[0m \u001b[0msafe_na_op\u001b[0m\u001b[1;33m(\u001b[0m\u001b[0mlvalues\u001b[0m\u001b[1;33m,\u001b[0m \u001b[0mrvalues\u001b[0m\u001b[1;33m)\u001b[0m\u001b[1;33m\u001b[0m\u001b[1;33m\u001b[0m\u001b[0m\n\u001b[0;32m   1070\u001b[0m         return construct_result(left, result,\n\u001b[1;32m-> 1071\u001b[1;33m                                 index=left.index, name=res_name, dtype=None)\n\u001b[0m\u001b[0;32m   1072\u001b[0m \u001b[1;33m\u001b[0m\u001b[0m\n\u001b[0;32m   1073\u001b[0m     \u001b[1;32mreturn\u001b[0m \u001b[0mwrapper\u001b[0m\u001b[1;33m\u001b[0m\u001b[1;33m\u001b[0m\u001b[0m\n",
      "\u001b[1;32mC:\\ProgramData\\Anaconda3\\lib\\site-packages\\pandas\\core\\ops.py\u001b[0m in \u001b[0;36m_construct_result\u001b[1;34m(left, result, index, name, dtype)\u001b[0m\n\u001b[0;32m    978\u001b[0m     \u001b[1;32mnot\u001b[0m \u001b[0mbe\u001b[0m \u001b[0menough\u001b[0m\u001b[1;33m;\u001b[0m \u001b[0mwe\u001b[0m \u001b[0mstill\u001b[0m \u001b[0mneed\u001b[0m \u001b[0mto\u001b[0m \u001b[0moverride\u001b[0m \u001b[0mthe\u001b[0m \u001b[0mname\u001b[0m \u001b[0mattribute\u001b[0m\u001b[1;33m.\u001b[0m\u001b[1;33m\u001b[0m\u001b[1;33m\u001b[0m\u001b[0m\n\u001b[0;32m    979\u001b[0m     \"\"\"\n\u001b[1;32m--> 980\u001b[1;33m     \u001b[0mout\u001b[0m \u001b[1;33m=\u001b[0m \u001b[0mleft\u001b[0m\u001b[1;33m.\u001b[0m\u001b[0m_constructor\u001b[0m\u001b[1;33m(\u001b[0m\u001b[0mresult\u001b[0m\u001b[1;33m,\u001b[0m \u001b[0mindex\u001b[0m\u001b[1;33m=\u001b[0m\u001b[0mindex\u001b[0m\u001b[1;33m,\u001b[0m \u001b[0mdtype\u001b[0m\u001b[1;33m=\u001b[0m\u001b[0mdtype\u001b[0m\u001b[1;33m)\u001b[0m\u001b[1;33m\u001b[0m\u001b[1;33m\u001b[0m\u001b[0m\n\u001b[0m\u001b[0;32m    981\u001b[0m \u001b[1;33m\u001b[0m\u001b[0m\n\u001b[0;32m    982\u001b[0m     \u001b[0mout\u001b[0m\u001b[1;33m.\u001b[0m\u001b[0mname\u001b[0m \u001b[1;33m=\u001b[0m \u001b[0mname\u001b[0m\u001b[1;33m\u001b[0m\u001b[1;33m\u001b[0m\u001b[0m\n",
      "\u001b[1;32mC:\\ProgramData\\Anaconda3\\lib\\site-packages\\pandas\\core\\series.py\u001b[0m in \u001b[0;36m__init__\u001b[1;34m(self, data, index, dtype, name, copy, fastpath)\u001b[0m\n\u001b[0;32m    260\u001b[0m                             \u001b[1;34m'Length of passed values is {val}, '\u001b[0m\u001b[1;33m\u001b[0m\u001b[1;33m\u001b[0m\u001b[0m\n\u001b[0;32m    261\u001b[0m                             \u001b[1;34m'index implies {ind}'\u001b[0m\u001b[1;33m\u001b[0m\u001b[1;33m\u001b[0m\u001b[0m\n\u001b[1;32m--> 262\u001b[1;33m                             .format(val=len(data), ind=len(index)))\n\u001b[0m\u001b[0;32m    263\u001b[0m                 \u001b[1;32mexcept\u001b[0m \u001b[0mTypeError\u001b[0m\u001b[1;33m:\u001b[0m\u001b[1;33m\u001b[0m\u001b[1;33m\u001b[0m\u001b[0m\n\u001b[0;32m    264\u001b[0m                     \u001b[1;32mpass\u001b[0m\u001b[1;33m\u001b[0m\u001b[1;33m\u001b[0m\u001b[0m\n",
      "\u001b[1;31mValueError\u001b[0m: Length of passed values is 4, index implies 3"
     ]
    }
   ],
   "source": [
    "m=(np.array([[0,1,2],[3,4,5],[6,7,8],[9,10,11]]))\n",
    "\n",
    "v = pd.Series(np.array([0, 1, 2]))\n",
    "print(v.shape)\n",
    "print(m.shape)\n",
    "print(m-v)"
   ]
  },
  {
   "cell_type": "code",
   "execution_count": 47,
   "metadata": {},
   "outputs": [
    {
     "data": {
      "text/plain": [
       "0.1866734155456543"
      ]
     },
     "execution_count": 47,
     "metadata": {},
     "output_type": "execute_result"
    }
   ],
   "source": [
    "def TestcustomMetric(yTrue,yPred):\n",
    "    #return K.sum(K.square(yTrue-yPred))\n",
    "    return np.max(np.min(np.abs(np.repeat(yTrue.reshape((Y.shape[0],1)),2,axis=1) -yPred),axis = 1))\n",
    "\n",
    "TestcustomMetric(Y,model.predict(X))"
   ]
  },
  {
   "cell_type": "code",
   "execution_count": 18,
   "metadata": {},
   "outputs": [
    {
     "data": {
      "text/plain": [
       "0.8146390024841309"
      ]
     },
     "execution_count": 18,
     "metadata": {},
     "output_type": "execute_result"
    }
   ],
   "source": [
    "np.max(np.min(np.abs(Y-model.predict(X).transpose()),axis =0))\n"
   ]
  },
  {
   "cell_type": "code",
   "execution_count": null,
   "metadata": {},
   "outputs": [],
   "source": []
  }
 ],
 "metadata": {
  "kernelspec": {
   "display_name": "Python 3",
   "language": "python",
   "name": "python3"
  }
 },
 "nbformat": 4,
 "nbformat_minor": 2
}
