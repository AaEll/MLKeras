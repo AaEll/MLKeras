{
 "cells": [
  {
   "cell_type": "code",
   "execution_count": 2,
   "metadata": {},
   "outputs": [],
   "source": [
    "from __future__ import print_function\n",
    "import importlib\n",
    "resources = importlib.import_module(\"resources\")\n",
    "import resources.MonteCarlo as MC\n",
    "\n",
    "import numpy as np\n",
    "import pandas as pd\n",
    "import random\n",
    "my_seed = 2010\n",
    "random.seed(my_seed)\n",
    "\n",
    "import matplotlib.pyplot as plt\n",
    "%matplotlib inline \n",
    "\n",
    "from sklearn.cluster import DBSCAN\n",
    "from sklearn.preprocessing import StandardScaler\n",
    "\n",
    "\n",
    "import keras\n",
    "import tensorflow as tf\n",
    "from keras.layers import Dense, BatchNormalization, Multiply, Lambda, ELU\n",
    "from keras.models import Model\n",
    "from keras.initializers import RandomNormal, RandomUniform\n",
    "from keras.callbacks import EarlyStopping, ModelCheckpoint\n",
    "from keras.constraints import NonNeg\n",
    "from keras import backend as K"
   ]
  },
  {
   "cell_type": "code",
   "execution_count": 14,
   "metadata": {},
   "outputs": [],
   "source": [
    "normalization_const = 1e6\n",
    "\n",
    "#Import Data\n",
    "Data = pd.read_csv('data/preprocessedlosAngParking_2/part-00000-26917948-d441-43ad-831c-85df7bb7040b-c000.csv').sample(frac = 1/5e3)\n",
    "Data['SN'] = pd.to_numeric(Data['SN'], errors ='coerce')\n",
    "Data['position'] = pd.to_numeric(Data['position'], errors ='coerce')\n",
    "Data.dropna()\n",
    "Data = Data/normalization_const\n",
    "X = Data['SN'].values\n",
    "Y = Data['position'].values"
   ]
  },
  {
   "cell_type": "code",
   "execution_count": 10,
   "metadata": {
    "scrolled": true
   },
   "outputs": [
    {
     "ename": "KeyboardInterrupt",
     "evalue": "",
     "output_type": "error",
     "traceback": [
      "\u001b[1;31m---------------------------------------------------------------------------\u001b[0m",
      "\u001b[1;31mKeyboardInterrupt\u001b[0m                         Traceback (most recent call last)",
      "\u001b[1;32m<ipython-input-10-132953d7689a>\u001b[0m in \u001b[0;36m<module>\u001b[1;34m\u001b[0m\n\u001b[0;32m     62\u001b[0m               \u001b[0mvalidation_data\u001b[0m\u001b[1;33m=\u001b[0m\u001b[1;33m(\u001b[0m\u001b[0mX\u001b[0m\u001b[1;33m,\u001b[0m \u001b[0mY_TRANSFORMED\u001b[0m\u001b[1;33m)\u001b[0m\u001b[1;33m,\u001b[0m\u001b[1;33m\u001b[0m\u001b[1;33m\u001b[0m\u001b[0m\n\u001b[0;32m     63\u001b[0m               \u001b[0mcallbacks\u001b[0m\u001b[1;33m=\u001b[0m\u001b[1;33m[\u001b[0m\u001b[0mcheckpoint\u001b[0m\u001b[1;33m]\u001b[0m\u001b[1;33m,\u001b[0m\u001b[1;33m\u001b[0m\u001b[1;33m\u001b[0m\u001b[0m\n\u001b[1;32m---> 64\u001b[1;33m               verbose=0)\n\u001b[0m\u001b[0;32m     65\u001b[0m     \u001b[0mmodel\u001b[0m\u001b[1;33m.\u001b[0m\u001b[0mload_weights\u001b[0m\u001b[1;33m(\u001b[0m\u001b[0mfilepath\u001b[0m\u001b[1;33m)\u001b[0m\u001b[1;33m\u001b[0m\u001b[1;33m\u001b[0m\u001b[0m\n\u001b[0;32m     66\u001b[0m     \u001b[0mscore\u001b[0m \u001b[1;33m=\u001b[0m \u001b[0mmodel\u001b[0m\u001b[1;33m.\u001b[0m\u001b[0mevaluate\u001b[0m\u001b[1;33m(\u001b[0m\u001b[0mX\u001b[0m\u001b[1;33m,\u001b[0m \u001b[0mY_TRANSFORMED\u001b[0m\u001b[1;33m,\u001b[0m \u001b[0mverbose\u001b[0m\u001b[1;33m=\u001b[0m\u001b[1;36m0\u001b[0m\u001b[1;33m)\u001b[0m\u001b[1;33m\u001b[0m\u001b[1;33m\u001b[0m\u001b[0m\n",
      "\u001b[1;32mC:\\ProgramData\\Anaconda3\\lib\\site-packages\\keras\\engine\\training.py\u001b[0m in \u001b[0;36mfit\u001b[1;34m(self, x, y, batch_size, epochs, verbose, callbacks, validation_split, validation_data, shuffle, class_weight, sample_weight, initial_epoch, steps_per_epoch, validation_steps, **kwargs)\u001b[0m\n\u001b[0;32m   1037\u001b[0m                                         \u001b[0minitial_epoch\u001b[0m\u001b[1;33m=\u001b[0m\u001b[0minitial_epoch\u001b[0m\u001b[1;33m,\u001b[0m\u001b[1;33m\u001b[0m\u001b[1;33m\u001b[0m\u001b[0m\n\u001b[0;32m   1038\u001b[0m                                         \u001b[0msteps_per_epoch\u001b[0m\u001b[1;33m=\u001b[0m\u001b[0msteps_per_epoch\u001b[0m\u001b[1;33m,\u001b[0m\u001b[1;33m\u001b[0m\u001b[1;33m\u001b[0m\u001b[0m\n\u001b[1;32m-> 1039\u001b[1;33m                                         validation_steps=validation_steps)\n\u001b[0m\u001b[0;32m   1040\u001b[0m \u001b[1;33m\u001b[0m\u001b[0m\n\u001b[0;32m   1041\u001b[0m     def evaluate(self, x=None, y=None,\n",
      "\u001b[1;32mC:\\ProgramData\\Anaconda3\\lib\\site-packages\\keras\\engine\\training_arrays.py\u001b[0m in \u001b[0;36mfit_loop\u001b[1;34m(model, f, ins, out_labels, batch_size, epochs, verbose, callbacks, val_f, val_ins, shuffle, callback_metrics, initial_epoch, steps_per_epoch, validation_steps)\u001b[0m\n\u001b[0;32m    210\u001b[0m                         val_outs = test_loop(model, val_f, val_ins,\n\u001b[0;32m    211\u001b[0m                                              \u001b[0mbatch_size\u001b[0m\u001b[1;33m=\u001b[0m\u001b[0mbatch_size\u001b[0m\u001b[1;33m,\u001b[0m\u001b[1;33m\u001b[0m\u001b[1;33m\u001b[0m\u001b[0m\n\u001b[1;32m--> 212\u001b[1;33m                                              verbose=0)\n\u001b[0m\u001b[0;32m    213\u001b[0m                         \u001b[0mval_outs\u001b[0m \u001b[1;33m=\u001b[0m \u001b[0mto_list\u001b[0m\u001b[1;33m(\u001b[0m\u001b[0mval_outs\u001b[0m\u001b[1;33m)\u001b[0m\u001b[1;33m\u001b[0m\u001b[1;33m\u001b[0m\u001b[0m\n\u001b[0;32m    214\u001b[0m                         \u001b[1;31m# Same labels assumed.\u001b[0m\u001b[1;33m\u001b[0m\u001b[1;33m\u001b[0m\u001b[1;33m\u001b[0m\u001b[0m\n",
      "\u001b[1;32mC:\\ProgramData\\Anaconda3\\lib\\site-packages\\keras\\engine\\training_arrays.py\u001b[0m in \u001b[0;36mtest_loop\u001b[1;34m(model, f, ins, batch_size, verbose, steps)\u001b[0m\n\u001b[0;32m    390\u001b[0m                 \u001b[0mins_batch\u001b[0m\u001b[1;33m[\u001b[0m\u001b[0mi\u001b[0m\u001b[1;33m]\u001b[0m \u001b[1;33m=\u001b[0m \u001b[0mins_batch\u001b[0m\u001b[1;33m[\u001b[0m\u001b[0mi\u001b[0m\u001b[1;33m]\u001b[0m\u001b[1;33m.\u001b[0m\u001b[0mtoarray\u001b[0m\u001b[1;33m(\u001b[0m\u001b[1;33m)\u001b[0m\u001b[1;33m\u001b[0m\u001b[1;33m\u001b[0m\u001b[0m\n\u001b[0;32m    391\u001b[0m \u001b[1;33m\u001b[0m\u001b[0m\n\u001b[1;32m--> 392\u001b[1;33m             \u001b[0mbatch_outs\u001b[0m \u001b[1;33m=\u001b[0m \u001b[0mf\u001b[0m\u001b[1;33m(\u001b[0m\u001b[0mins_batch\u001b[0m\u001b[1;33m)\u001b[0m\u001b[1;33m\u001b[0m\u001b[1;33m\u001b[0m\u001b[0m\n\u001b[0m\u001b[0;32m    393\u001b[0m             \u001b[1;32mif\u001b[0m \u001b[0misinstance\u001b[0m\u001b[1;33m(\u001b[0m\u001b[0mbatch_outs\u001b[0m\u001b[1;33m,\u001b[0m \u001b[0mlist\u001b[0m\u001b[1;33m)\u001b[0m\u001b[1;33m:\u001b[0m\u001b[1;33m\u001b[0m\u001b[1;33m\u001b[0m\u001b[0m\n\u001b[0;32m    394\u001b[0m                 \u001b[1;32mif\u001b[0m \u001b[0mbatch_index\u001b[0m \u001b[1;33m==\u001b[0m \u001b[1;36m0\u001b[0m\u001b[1;33m:\u001b[0m\u001b[1;33m\u001b[0m\u001b[1;33m\u001b[0m\u001b[0m\n",
      "\u001b[1;32mC:\\ProgramData\\Anaconda3\\lib\\site-packages\\keras\\backend\\tensorflow_backend.py\u001b[0m in \u001b[0;36m__call__\u001b[1;34m(self, inputs)\u001b[0m\n\u001b[0;32m   2713\u001b[0m                 \u001b[1;32mreturn\u001b[0m \u001b[0mself\u001b[0m\u001b[1;33m.\u001b[0m\u001b[0m_legacy_call\u001b[0m\u001b[1;33m(\u001b[0m\u001b[0minputs\u001b[0m\u001b[1;33m)\u001b[0m\u001b[1;33m\u001b[0m\u001b[1;33m\u001b[0m\u001b[0m\n\u001b[0;32m   2714\u001b[0m \u001b[1;33m\u001b[0m\u001b[0m\n\u001b[1;32m-> 2715\u001b[1;33m             \u001b[1;32mreturn\u001b[0m \u001b[0mself\u001b[0m\u001b[1;33m.\u001b[0m\u001b[0m_call\u001b[0m\u001b[1;33m(\u001b[0m\u001b[0minputs\u001b[0m\u001b[1;33m)\u001b[0m\u001b[1;33m\u001b[0m\u001b[1;33m\u001b[0m\u001b[0m\n\u001b[0m\u001b[0;32m   2716\u001b[0m         \u001b[1;32melse\u001b[0m\u001b[1;33m:\u001b[0m\u001b[1;33m\u001b[0m\u001b[1;33m\u001b[0m\u001b[0m\n\u001b[0;32m   2717\u001b[0m             \u001b[1;32mif\u001b[0m \u001b[0mpy_any\u001b[0m\u001b[1;33m(\u001b[0m\u001b[0mis_tensor\u001b[0m\u001b[1;33m(\u001b[0m\u001b[0mx\u001b[0m\u001b[1;33m)\u001b[0m \u001b[1;32mfor\u001b[0m \u001b[0mx\u001b[0m \u001b[1;32min\u001b[0m \u001b[0minputs\u001b[0m\u001b[1;33m)\u001b[0m\u001b[1;33m:\u001b[0m\u001b[1;33m\u001b[0m\u001b[1;33m\u001b[0m\u001b[0m\n",
      "\u001b[1;32mC:\\ProgramData\\Anaconda3\\lib\\site-packages\\keras\\backend\\tensorflow_backend.py\u001b[0m in \u001b[0;36m_call\u001b[1;34m(self, inputs)\u001b[0m\n\u001b[0;32m   2673\u001b[0m             \u001b[0mfetched\u001b[0m \u001b[1;33m=\u001b[0m \u001b[0mself\u001b[0m\u001b[1;33m.\u001b[0m\u001b[0m_callable_fn\u001b[0m\u001b[1;33m(\u001b[0m\u001b[1;33m*\u001b[0m\u001b[0marray_vals\u001b[0m\u001b[1;33m,\u001b[0m \u001b[0mrun_metadata\u001b[0m\u001b[1;33m=\u001b[0m\u001b[0mself\u001b[0m\u001b[1;33m.\u001b[0m\u001b[0mrun_metadata\u001b[0m\u001b[1;33m)\u001b[0m\u001b[1;33m\u001b[0m\u001b[1;33m\u001b[0m\u001b[0m\n\u001b[0;32m   2674\u001b[0m         \u001b[1;32melse\u001b[0m\u001b[1;33m:\u001b[0m\u001b[1;33m\u001b[0m\u001b[1;33m\u001b[0m\u001b[0m\n\u001b[1;32m-> 2675\u001b[1;33m             \u001b[0mfetched\u001b[0m \u001b[1;33m=\u001b[0m \u001b[0mself\u001b[0m\u001b[1;33m.\u001b[0m\u001b[0m_callable_fn\u001b[0m\u001b[1;33m(\u001b[0m\u001b[1;33m*\u001b[0m\u001b[0marray_vals\u001b[0m\u001b[1;33m)\u001b[0m\u001b[1;33m\u001b[0m\u001b[1;33m\u001b[0m\u001b[0m\n\u001b[0m\u001b[0;32m   2676\u001b[0m         \u001b[1;32mreturn\u001b[0m \u001b[0mfetched\u001b[0m\u001b[1;33m[\u001b[0m\u001b[1;33m:\u001b[0m\u001b[0mlen\u001b[0m\u001b[1;33m(\u001b[0m\u001b[0mself\u001b[0m\u001b[1;33m.\u001b[0m\u001b[0moutputs\u001b[0m\u001b[1;33m)\u001b[0m\u001b[1;33m]\u001b[0m\u001b[1;33m\u001b[0m\u001b[1;33m\u001b[0m\u001b[0m\n\u001b[0;32m   2677\u001b[0m \u001b[1;33m\u001b[0m\u001b[0m\n",
      "\u001b[1;32mC:\\ProgramData\\Anaconda3\\lib\\site-packages\\tensorflow\\python\\client\\session.py\u001b[0m in \u001b[0;36m__call__\u001b[1;34m(self, *args, **kwargs)\u001b[0m\n\u001b[0;32m   1397\u001b[0m           ret = tf_session.TF_SessionRunCallable(\n\u001b[0;32m   1398\u001b[0m               \u001b[0mself\u001b[0m\u001b[1;33m.\u001b[0m\u001b[0m_session\u001b[0m\u001b[1;33m.\u001b[0m\u001b[0m_session\u001b[0m\u001b[1;33m,\u001b[0m \u001b[0mself\u001b[0m\u001b[1;33m.\u001b[0m\u001b[0m_handle\u001b[0m\u001b[1;33m,\u001b[0m \u001b[0margs\u001b[0m\u001b[1;33m,\u001b[0m \u001b[0mstatus\u001b[0m\u001b[1;33m,\u001b[0m\u001b[1;33m\u001b[0m\u001b[1;33m\u001b[0m\u001b[0m\n\u001b[1;32m-> 1399\u001b[1;33m               run_metadata_ptr)\n\u001b[0m\u001b[0;32m   1400\u001b[0m         \u001b[1;32mif\u001b[0m \u001b[0mrun_metadata\u001b[0m\u001b[1;33m:\u001b[0m\u001b[1;33m\u001b[0m\u001b[1;33m\u001b[0m\u001b[0m\n\u001b[0;32m   1401\u001b[0m           \u001b[0mproto_data\u001b[0m \u001b[1;33m=\u001b[0m \u001b[0mtf_session\u001b[0m\u001b[1;33m.\u001b[0m\u001b[0mTF_GetBuffer\u001b[0m\u001b[1;33m(\u001b[0m\u001b[0mrun_metadata_ptr\u001b[0m\u001b[1;33m)\u001b[0m\u001b[1;33m\u001b[0m\u001b[1;33m\u001b[0m\u001b[0m\n",
      "\u001b[1;31mKeyboardInterrupt\u001b[0m: "
     ]
    }
   ],
   "source": [
    "\n",
    "batch_size = 256\n",
    "no_input  = 1\n",
    "epochs = 300000\n",
    "lambd  = 1e-6\n",
    "\n",
    "results = {}\n",
    "models  = []\n",
    "no_output_range = range(5,9,2)\n",
    "def customLoss(yTrue,yPred):\n",
    "    #return K.sum(K.square(yTrue-yPred))\n",
    "    return K.sum(K.min(K.square(yTrue - yPred),axis = 1))\\\n",
    "    +lambd*K.sum(K.square(yTrue-yPred))\n",
    "\n",
    "def customMetric(yTrue,yPred):\n",
    "    #return K.sum(K.square(yTrue-yPred))\n",
    "    return K.max(K.min(K.abs(yTrue -yPred),axis = 1))\n",
    "\n",
    "for no_output in no_output_range:\n",
    "    Y_TRANSFORMED = np.repeat(Y.reshape((Y.shape[0],1)),no_output,axis=1)\n",
    "    \n",
    "    _input_= keras.layers.Input(shape=(no_input,))\n",
    "    \n",
    "    neg_pos_mask = tf.constant(np.random.choice( [-1,1],[1,no_output]),dtype = tf.float32)\n",
    "    mask = Lambda( lambda x : neg_pos_mask)(_input_) # _input_ is just added to get this to compile\n",
    "    \n",
    "    l1 = Dense(128, activation='linear', name=\"hidden_1_dense64\",\n",
    "                    kernel_initializer= RandomUniform(minval=1, maxval=2),\n",
    "                    bias_initializer=RandomUniform(), kernel_constraint=NonNeg(),                   \n",
    "                    input_shape=[no_input])(_input_)\n",
    "    l1a = ELU(alpha=.5,name=\"hidden_1_leakyElu\")(l1)\n",
    "    l1b = BatchNormalization(gamma_constraint=NonNeg(), name='batch_norm_1')(l1a)\n",
    "    \n",
    "    l2 = Dense(128, activation='linear', name=\"hidden_2_dense64\",\n",
    "                    kernel_initializer=RandomUniform(minval=1, maxval=2),\n",
    "                    bias_initializer=RandomUniform(), kernel_constraint=NonNeg())(l1b)\n",
    "    l2a = ELU(alpha=.5,name=\"hidden_2_leakyElu\")(l2)\n",
    "    l2b = BatchNormalization(gamma_constraint=NonNeg(), name='batch_norm_2')(l2a)\n",
    "\n",
    "    \"\"\"\n",
    "    l3 = Dense(32, activation='relu', name=\"hidden_3_dense64\",\n",
    "                    kernel_initializer=RandomUniform(minval=.05, maxval=.15),\n",
    "                    bias_initializer=RandomUniform(), kernel_constraint=NonNeg())(l2b)\n",
    "    l3a =ELU(alpha=.5,name=\"hidden_3_leakyElu\")(l2)\n",
    "    l3b = BatchNormalization(gamma_constraint=NonNeg(), name='batch_norm_3')(l3a)\n",
    "    \"\"\"\n",
    "    l4 = Dense(no_output, activation='linear', name=\"hidden_4_dense64\",\n",
    "                    kernel_initializer=RandomUniform(minval=.05, maxval=1),\n",
    "                    bias_initializer= RandomNormal(), kernel_constraint=NonNeg())(l2b)\n",
    "\n",
    "    #_output_ =l3\n",
    "    _output_ = Multiply()([l4,mask])\n",
    "    \n",
    "    model = keras.models.Model(inputs=_input_ , outputs=_output_)\n",
    "    filepath = \"results\\parking_weights{}.hdf5\".format(no_output)\n",
    "    checkpoint = ModelCheckpoint(filepath, monitor=\"val_customMetric\", verbose=0, period = 100, mode = 'min', save_best_only=True)\n",
    "    model.compile(loss=customMetric, metrics=[customMetric],\n",
    "                  optimizer=keras.optimizers.Nadam(lr=.01, beta_1=0.9, beta_2=0.999, clipvalue=0.5, schedule_decay=0.0001))\n",
    "    model.fit(X, Y_TRANSFORMED,\n",
    "              batch_size=batch_size,\n",
    "              epochs=epochs,\n",
    "              validation_data=(X, Y_TRANSFORMED),\n",
    "              callbacks=[checkpoint],\n",
    "              verbose=0)\n",
    "    model.load_weights(filepath)    \n",
    "    score = model.evaluate(X, Y_TRANSFORMED, verbose=0)\n",
    "    print(score)\n",
    "    YPred= model.predict(X)\n",
    "    maxError = np.max(np.min(np.abs(YPred - Y_TRANSFORMED),axis=1),axis=0)\n",
    "    results[no_output] = maxError\n",
    "    models.append(model)\n",
    "print(results)"
   ]
  },
  {
   "cell_type": "code",
   "execution_count": 6,
   "metadata": {},
   "outputs": [
    {
     "data": {
      "text/plain": [
       "[<matplotlib.lines.Line2D at 0x1ab8b124048>]"
      ]
     },
     "execution_count": 6,
     "metadata": {},
     "output_type": "execute_result"
    },
    {
     "data": {
      "image/png": "[encoded data removed]",
      "text/plain": [
       "<Figure size 432x288 with 1 Axes>"
      ]
     },
     "metadata": {
      "needs_background": "light"
     },
     "output_type": "display_data"
    }
   ],
   "source": [
    "plt.plot(results.keys(),results.values())"
   ]
  },
  {
   "cell_type": "code",
   "execution_count": 16,
   "metadata": {},
   "outputs": [],
   "source": [
    "X_space = np.linspace(4200, 4344, 400)\n",
    "#Y1,Y2 = zip(*model.predict(X))\n",
    "i = 0 \n",
    "for model in models:\n",
    "    plt.clf()\n",
    "    model_output_linspace = zip(*model.predict(X_space))\n",
    "\n",
    "    plt.scatter(X, Y,s = .2, c='blue',marker= '^',zorder=2)\n",
    "    #plt.scatter(x_test, y_test, s = .2 ,c='black',zorder=2)\n",
    "\n",
    "    for Y_pred in model_output_linspace:\n",
    "        plt.plot(X_space,Y_pred, 'k',linewidth = 1, alpha = .6,zorder=1)\n",
    "    #plt.plot(X,Y3, 'b-',)\n",
    "    #plt.plot(X,Y4, 'y-',linewidth = 3)\n",
    "\n",
    "    # Add title and x, y labels\n",
    "    plt.savefig(\"results/Test_Parking_{number}.jpg\".format(number = no_output_range[i]))\n",
    "    i+=1\n"
   ]
  },
  {
   "cell_type": "code",
   "execution_count": 19,
   "metadata": {
    "scrolled": true
   },
   "outputs": [],
   "source": [
    "for x in model_output_linspace:\n",
    "    plt.plot(X_space,x)"
   ]
  },
  {
   "cell_type": "code",
   "execution_count": 18,
   "metadata": {},
   "outputs": [
    {
     "name": "stdout",
     "output_type": "stream",
     "text": [
      "{'batch_input_shape': (None, 1), 'dtype': 'float32', 'sparse': False, 'name': 'input_10'}\n",
      "[]\n",
      "{'name': 'hidden_1_dense64', 'trainable': True, 'batch_input_shape': (None, 1), 'dtype': 'float32', 'units': 64, 'activation': 'linear', 'use_bias': True, 'kernel_initializer': {'class_name': 'RandomNormal', 'config': {'mean': 0.0, 'stddev': 0.05, 'seed': None}}, 'bias_initializer': {'class_name': 'Zeros', 'config': {}}, 'kernel_regularizer': None, 'bias_regularizer': None, 'activity_regularizer': None, 'kernel_constraint': {'class_name': 'NonNeg', 'config': {}}, 'bias_constraint': None}\n",
      "[array([[-0.        , -0.        , -0.        , -0.        , -0.        ,\n",
      "        -0.        , -0.        ,  0.01168649, -0.        , -0.        ,\n",
      "        -0.        , -0.        , -0.        , -0.        , -0.        ,\n",
      "        -0.        , -0.        , -0.        , -0.        , -0.        ,\n",
      "        -0.        , -0.        , -0.        , -0.        , -0.        ,\n",
      "         0.04955024, -0.        , -0.        , -0.        , -0.        ,\n",
      "        -0.        , -0.        , -0.        ,  0.00110777, -0.        ,\n",
      "        -0.        , -0.        , -0.        ,  0.05113422,  0.00974079,\n",
      "        -0.        , -0.        , -0.        , -0.        , -0.        ,\n",
      "         0.09018995, -0.        , -0.        , -0.        , -0.        ,\n",
      "        -0.        ,  0.01151795, -0.        , -0.        ,  0.04554434,\n",
      "        -0.        ,  0.04409679,  0.02685172, -0.        ,  0.01851308,\n",
      "        -0.        ,  0.0164205 , -0.        , -0.        ]],\n",
      "      dtype=float32), array([-0.02819167, -0.04863344, -0.07558807, -0.0714625 , -0.0178172 ,\n",
      "       -0.05355357, -0.01977178, -0.02603964, -0.02180852, -0.02128399,\n",
      "       -0.02136699, -0.04064179, -0.12901254, -0.07744789, -0.07460564,\n",
      "       -0.01992381, -0.02011796, -0.06906895, -0.02224694, -0.09383075,\n",
      "       -0.03580589, -0.12071954, -0.08848993, -0.05677957, -0.0416128 ,\n",
      "       -0.0475705 , -0.03566388, -0.03674284, -0.01910743, -0.01996102,\n",
      "       -0.02076481, -0.0219641 , -0.06941244, -0.02829804, -0.05996316,\n",
      "       -0.03542288, -0.06960867, -0.05674038, -0.05025497, -0.035225  ,\n",
      "       -0.05718454, -0.07082208, -0.05575535, -0.0876541 , -0.02362783,\n",
      "       -0.05310474, -0.02110043, -0.06385151, -0.0335254 , -0.03649294,\n",
      "       -0.06269902, -0.03890728, -0.05543406, -0.06704117, -0.02717897,\n",
      "       -0.03667524, -0.05777066, -0.04447228, -0.02129098, -0.03210773,\n",
      "       -0.02705116, -0.03664862, -0.08197413, -0.02875385], dtype=float32)]\n",
      "{'name': 'hidden_1_leakyRelu', 'trainable': True, 'alpha': 0.10000000149011612}\n",
      "[]\n",
      "{'name': 'hidden_2_dense64', 'trainable': True, 'units': 64, 'activation': 'linear', 'use_bias': True, 'kernel_initializer': {'class_name': 'RandomNormal', 'config': {'mean': 0.0, 'stddev': 0.05, 'seed': None}}, 'bias_initializer': {'class_name': 'Zeros', 'config': {}}, 'kernel_regularizer': None, 'bias_regularizer': None, 'activity_regularizer': None, 'kernel_constraint': {'class_name': 'NonNeg', 'config': {}}, 'bias_constraint': None}\n",
      "[array([[-0.        ,  0.05240688,  0.00098862, ..., -0.        ,\n",
      "        -0.        , -0.        ],\n",
      "       [ 0.00175448, -0.        ,  0.08021343, ...,  0.01257037,\n",
      "         0.01257037,  0.00478132],\n",
      "       [ 0.02495821,  0.0667913 ,  0.01257036, ...,  0.02664882,\n",
      "         0.09520056,  0.07515263],\n",
      "       ...,\n",
      "       [-0.        ,  0.03060867,  0.01390822, ..., -0.        ,\n",
      "        -0.        , -0.        ],\n",
      "       [ 0.00321844, -0.        ,  0.02261291, ...,  0.01257036,\n",
      "         0.02431732,  0.00679786],\n",
      "       [-0.        ,  0.04572644, -0.        , ...,  0.00457239,\n",
      "         0.03248235, -0.        ]], dtype=float32), array([-0.07139367,  0.02313377, -0.02313462, -0.02313452, -0.02856543,\n",
      "       -0.03856691, -0.01525343, -0.02313445, -0.02313453, -0.08972713,\n",
      "       -0.02313462, -0.02313462, -0.02612729, -0.02475845,  0.02312559,\n",
      "       -0.02313462, -0.02313378, -0.0231343 , -0.02313451, -0.03343078,\n",
      "       -0.03319489, -0.04453639,  0.02313396, -0.02313462, -0.02573951,\n",
      "        0.02313432, -0.02874229, -0.02313444,  0.02313435, -0.05448892,\n",
      "       -0.02313463, -0.03460276, -0.01311524,  0.02313429, -0.01775717,\n",
      "       -0.02313462, -0.02313456, -0.02313436, -0.02313453, -0.05533981,\n",
      "       -0.01309933, -0.02313456, -0.02313462, -0.02313462, -0.02313462,\n",
      "       -0.02097863, -0.10412484, -0.02029794,  0.02313435, -0.02313454,\n",
      "       -0.01985255, -0.01535767, -0.02313462, -0.01308686, -0.04083703,\n",
      "       -0.03434053, -0.02313446,  0.02313361, -0.02313462, -0.3508692 ,\n",
      "       -0.02313455, -0.02313462, -0.02313462, -0.03436273], dtype=float32)]\n",
      "{'name': 'hidden_2_leakyRelu', 'trainable': True, 'alpha': 0.10000000149011612}\n",
      "[]\n",
      "{'name': 'hidden_3_dense64', 'trainable': True, 'units': 1, 'activation': 'linear', 'use_bias': True, 'kernel_initializer': {'class_name': 'RandomUniform', 'config': {'minval': -0.05, 'maxval': 0.05, 'seed': None}}, 'bias_initializer': {'class_name': 'RandomUniform', 'config': {'minval': -0.05, 'maxval': 0.05, 'seed': None}}, 'kernel_regularizer': None, 'bias_regularizer': None, 'activity_regularizer': None, 'kernel_constraint': {'class_name': 'NonNeg', 'config': {}}, 'bias_constraint': None}\n",
      "[array([[-0.        ],\n",
      "       [-0.        ],\n",
      "       [-0.        ],\n",
      "       [-0.        ],\n",
      "       [-0.        ],\n",
      "       [-0.        ],\n",
      "       [-0.        ],\n",
      "       [-0.        ],\n",
      "       [-0.        ],\n",
      "       [ 0.00511765],\n",
      "       [-0.        ],\n",
      "       [-0.        ],\n",
      "       [-0.        ],\n",
      "       [-0.        ],\n",
      "       [-0.        ],\n",
      "       [-0.        ],\n",
      "       [-0.        ],\n",
      "       [-0.        ],\n",
      "       [-0.        ],\n",
      "       [-0.        ],\n",
      "       [ 0.00010361],\n",
      "       [-0.        ],\n",
      "       [-0.        ],\n",
      "       [-0.        ],\n",
      "       [-0.        ],\n",
      "       [-0.        ],\n",
      "       [-0.        ],\n",
      "       [-0.        ],\n",
      "       [-0.        ],\n",
      "       [-0.        ],\n",
      "       [-0.        ],\n",
      "       [-0.        ],\n",
      "       [-0.        ],\n",
      "       [-0.        ],\n",
      "       [-0.        ],\n",
      "       [-0.        ],\n",
      "       [-0.        ],\n",
      "       [-0.        ],\n",
      "       [-0.        ],\n",
      "       [-0.        ],\n",
      "       [-0.        ],\n",
      "       [-0.        ],\n",
      "       [-0.        ],\n",
      "       [-0.        ],\n",
      "       [-0.        ],\n",
      "       [-0.        ],\n",
      "       [ 0.00046891],\n",
      "       [-0.        ],\n",
      "       [-0.        ],\n",
      "       [-0.        ],\n",
      "       [-0.        ],\n",
      "       [-0.        ],\n",
      "       [-0.        ],\n",
      "       [-0.        ],\n",
      "       [-0.        ],\n",
      "       [-0.        ],\n",
      "       [-0.        ],\n",
      "       [-0.        ],\n",
      "       [-0.        ],\n",
      "       [ 0.00261603],\n",
      "       [-0.        ],\n",
      "       [-0.        ],\n",
      "       [-0.        ],\n",
      "       [-0.        ]], dtype=float32), array([-0.431158], dtype=float32)]\n",
      "{'name': 'lambda_6', 'trainable': True, 'function': ('4wEAAAAAAAAAAQAAAAEAAABDAAAAcwQAAAB0AFMAKQFOKQHaDG5lZ19wb3NfbWFzaykB2gF4qQBy\\nAwAAAPofPGlweXRob24taW5wdXQtMTQtNDY0MDM1YTYyZTQzPtoIPGxhbWJkYT4ZAAAAcwAAAAA=\\n', None, None), 'function_type': 'lambda', 'output_shape': None, 'output_shape_type': 'raw', 'arguments': {}}\n",
      "[]\n",
      "{'name': 'multiply_6', 'trainable': True}\n",
      "[]\n"
     ]
    }
   ],
   "source": [
    "for layer in model.layers:\n",
    "    g=layer.get_config()\n",
    "    h=layer.get_weights()\n",
    "    print(g)\n",
    "    print(h)"
   ]
  },
  {
   "cell_type": "code",
   "execution_count": 44,
   "metadata": {},
   "outputs": [
    {
     "data": {
      "text/plain": [
       "0.08670679124336245"
      ]
     },
     "execution_count": 44,
     "metadata": {},
     "output_type": "execute_result"
    }
   ],
   "source": [
    "Z = model.predict(X)\n",
    "n = Z.shape[1]\n",
    "def TestcustomMetric(yTrue,yPred):\n",
    "    #return K.sum(K.square(yTrue-yPred))\n",
    "    return np.max(np.min(np.abs(np.repeat(yTrue.reshape((Y.shape[0],1)),n,axis=1) -yPred),axis = 1))\n",
    "\n",
    "TestcustomMetric(Y,Z)"
   ]
  },
  {
   "cell_type": "code",
   "execution_count": 18,
   "metadata": {},
   "outputs": [
    {
     "data": {
      "text/plain": [
       "0.8146390024841309"
      ]
     },
     "execution_count": 18,
     "metadata": {},
     "output_type": "execute_result"
    }
   ],
   "source": [
    "np.max(np.min(np.abs(Y-model.predict(X).transpose()),axis =0))\n"
   ]
  },
  {
   "cell_type": "code",
   "execution_count": 30,
   "metadata": {},
   "outputs": [
    {
     "data": {
      "text/plain": [
       "array([[0.54177535, 0.05803883, 0.70395744, 0.13071795],\n",
       "       [0.35115886, 0.05803828, 0.4772023 , 0.05458892],\n",
       "       [0.5713086 , 0.05803892, 0.7390927 , 0.14251326],\n",
       "       [0.5250598 , 0.05803878, 0.6840713 , 0.12404196],\n",
       "       [0.84392405, 0.0580396 , 1.0217736 , 0.9784222 ],\n",
       "       [0.4550112 , 0.05803858, 0.60073566, 0.09606522],\n",
       "       [0.5876761 , 0.05803896, 0.75856483, 0.14905028],\n",
       "       [0.7915473 , 0.05803948, 0.97123957, 0.81926876],\n",
       "       [0.38559413, 0.05803838, 0.5181514 , 0.06834071],\n",
       "       [0.5708701 , 0.05803892, 0.73857105, 0.14233816],\n",
       "       [0.5381377 , 0.05803882, 0.6996299 , 0.12926514],\n",
       "       [0.5450075 , 0.05803884, 0.7078027 , 0.13200888],\n",
       "       [0.575905  , 0.05803893, 0.74456096, 0.14434901],\n",
       "       [0.7225096 , 0.05803932, 0.90299976, 0.60361284],\n",
       "       [0.5256804 , 0.05803879, 0.68480957, 0.1242898 ],\n",
       "       [0.51798093, 0.05803876, 0.67564964, 0.1212147 ],\n",
       "       [0.4810058 , 0.05803866, 0.631661  , 0.10644722],\n",
       "       [0.60748273, 0.05803902, 0.7815232 , 0.2193788 ],\n",
       "       [0.682669  , 0.05803922, 0.8626617 , 0.47603083],\n",
       "       [0.8209027 , 0.05803955, 0.9997139 , 0.90898395],\n",
       "       [0.81602275, 0.05803953, 0.9950398 , 0.8942636 ],\n",
       "       [0.6914022 , 0.05803924, 0.8719606 , 0.50544375],\n",
       "       [0.46080047, 0.0580386 , 0.6076231 , 0.09837742],\n",
       "       [0.6214575 , 0.05803906, 0.7967081 , 0.2674113 ],\n",
       "       [0.81569076, 0.05803953, 0.9947218 , 0.8932617 ],\n",
       "       [0.738286  , 0.05803935, 0.9187415 , 0.6534005 ],\n",
       "       [0.8153851 , 0.05803953, 0.99442923, 0.89234   ],\n",
       "       [0.6208694 , 0.05803905, 0.796069  , 0.2653897 ],\n",
       "       [0.7151712 , 0.0580393 , 0.89567745, 0.58045435],\n",
       "       [0.35473347, 0.05803829, 0.48145217, 0.05601583],\n",
       "       [0.40914893, 0.05803845, 0.5461741 , 0.0777483 ],\n",
       "       [0.72597575, 0.05803932, 0.90645826, 0.61455137],\n",
       "       [0.3665566 , 0.05803833, 0.49550885, 0.06073757],\n",
       "       [0.8077636 , 0.05803952, 0.9870819 , 0.86919624],\n",
       "       [0.64988303, 0.05803913, 0.82745624, 0.36467254],\n",
       "       [0.7199472 , 0.05803931, 0.900443  , 0.59552646],\n",
       "       [0.36607245, 0.05803833, 0.4949332 , 0.0605442 ],\n",
       "       [0.47841173, 0.05803865, 0.62857485, 0.10541116],\n",
       "       [0.62576485, 0.05803907, 0.8013884 , 0.282216  ],\n",
       "       [0.38196895, 0.05803837, 0.5138385 , 0.0668929 ],\n",
       "       [0.7032413 , 0.05803927, 0.8837737 , 0.5428057 ],\n",
       "       [0.6518972 , 0.05803914, 0.829619  , 0.3715136 ],\n",
       "       [0.8456129 , 0.05803961, 1.023392  , 0.9835163 ],\n",
       "       [0.71573174, 0.0580393 , 0.8962368 , 0.5822235 ],\n",
       "       [0.783045  , 0.05803946, 0.96290267, 0.79296   ],\n",
       "       [0.41053993, 0.05803845, 0.547829  , 0.07830385],\n",
       "       [0.6338395 , 0.05803909, 0.8101623 , 0.30996943],\n",
       "       [0.5807068 , 0.05803895, 0.7502735 , 0.14626682],\n",
       "       [0.6465059 , 0.05803912, 0.8238299 , 0.3532015 ],\n",
       "       [0.7440712 , 0.05803937, 0.92451406, 0.6716577 ],\n",
       "       [0.70845044, 0.05803928, 0.8889715 , 0.55924505],\n",
       "       [0.72415304, 0.05803932, 0.90463954, 0.6087994 ],\n",
       "       [0.5229454 , 0.05803878, 0.6815558 , 0.12319747],\n",
       "       [0.43413737, 0.05803852, 0.57590246, 0.08772843],\n",
       "       [0.7171283 , 0.0580393 , 0.8976302 , 0.58663046],\n",
       "       [0.5588939 , 0.05803888, 0.72432315, 0.13755497],\n",
       "       [0.7753831 , 0.05803944, 0.9553925 , 0.7692517 ],\n",
       "       [0.82387924, 0.05803955, 1.0025659 , 0.91796166],\n",
       "       [0.38884148, 0.05803839, 0.52201474, 0.06963769],\n",
       "       [0.6384052 , 0.0580391 , 0.81512344, 0.32566252],\n",
       "       [0.5958741 , 0.05803899, 0.76831794, 0.17760395],\n",
       "       [0.59310234, 0.05803898, 0.76502025, 0.16717139],\n",
       "       [0.5461831 , 0.05803885, 0.70920134, 0.13247839],\n",
       "       [0.31708294, 0.05803819, 0.43670857, 0.04103125],\n",
       "       [0.374818  , 0.05803835, 0.5053312 , 0.06403691],\n",
       "       [0.44159204, 0.05803854, 0.58477116, 0.09070574],\n",
       "       [0.5716734 , 0.05803892, 0.7395266 , 0.14265898],\n",
       "       [0.78196967, 0.05803946, 0.9618484 , 0.7896327 ],\n",
       "       [0.7534348 , 0.05803939, 0.9338273 , 0.70109516],\n",
       "       [0.5196306 , 0.05803877, 0.6776123 , 0.12187357],\n",
       "       [0.3803113 , 0.05803837, 0.5118665 , 0.06623086],\n",
       "       [0.4365289 , 0.05803853, 0.5787476 , 0.08868359],\n",
       "       [0.38846013, 0.05803839, 0.521561  , 0.0694854 ],\n",
       "       [0.7318381 , 0.05803934, 0.9123078 , 0.6330524 ],\n",
       "       [0.6892526 , 0.05803923, 0.8697313 , 0.4983924 ],\n",
       "       [0.730384  , 0.05803933, 0.9108569 , 0.62846345],\n",
       "       [0.5854447 , 0.05803896, 0.7559101 , 0.14815909],\n",
       "       [0.76888204, 0.05803943, 0.949026  , 0.74913067],\n",
       "       [0.47685575, 0.05803864, 0.62672377, 0.10478971],\n",
       "       [0.5693606 , 0.05803891, 0.7367753 , 0.14173524],\n",
       "       [0.6428609 , 0.05803911, 0.8199159 , 0.34082142],\n",
       "       [0.68316174, 0.05803922, 0.8631909 , 0.47770435],\n",
       "       [0.40026936, 0.05803842, 0.53561026, 0.07420186],\n",
       "       [0.80507684, 0.05803951, 0.98446023, 0.86093736],\n",
       "       [0.7598622 , 0.0580394 , 0.94019294, 0.7212136 ]], dtype=float32)"
      ]
     },
     "execution_count": 30,
     "metadata": {},
     "output_type": "execute_result"
    }
   ],
   "source": [
    "Z"
   ]
  },
  {
   "cell_type": "code",
   "execution_count": 8,
   "metadata": {},
   "outputs": [
    {
     "name": "stdout",
     "output_type": "stream",
     "text": [
      "[200.93421018658262, 4.192352035406864]\n",
      "[21.66105849757339, 1.4074236684856993]\n",
      "[8.055396718111906, 0.8543192453095407]\n",
      "[4.0307394406289765, 0.6269943199735699]\n",
      "{1: 4.337008321624756, 3: 1.4809652212677002, 5: 0.8961248750648498, 7: 0.6700213793334961}\n"
     ]
    }
   ],
   "source": [
    "\n",
    "batch_size = 256\n",
    "no_input  = 1\n",
    "epochs = 30000\n",
    "lambd  = 1e-6\n",
    "\n",
    "results = {}\n",
    "models  = []\n",
    "no_output_range = range(1,9,2)\n",
    "def customLoss(yTrue,yPred):\n",
    "    #return K.sum(K.square(yTrue-yPred))\n",
    "    return K.sum(K.min(K.square(yTrue - yPred),axis = 1))\\\n",
    "    +lambd*K.sum(K.square(yTrue-yPred))\n",
    "\n",
    "def customMetric(yTrue,yPred):\n",
    "    #return K.sum(K.square(yTrue-yPred))\n",
    "    return K.max(K.min(K.abs(yTrue -yPred),axis = 1))\n",
    "\n",
    "for no_output in no_output_range:\n",
    "    Y_TRANSFORMED = np.repeat(Y.reshape((Y.shape[0],1)),no_output,axis=1)\n",
    "    \n",
    "    _input_= keras.layers.Input(shape=(no_input,))\n",
    "        \n",
    "    l1 = Dense(64, activation='linear', name=\"hidden_1_dense64\",\n",
    "                    kernel_initializer= RandomUniform(minval=1, maxval=2),\n",
    "                    bias_initializer=RandomUniform(),                  \n",
    "                    input_shape=[no_input])(_input_)\n",
    "    l1a = ELU(alpha=.5,name=\"hidden_1_leakyElu\")(l1)\n",
    "    l1b = BatchNormalization(name='batch_norm_1')(l1a)\n",
    "    \n",
    "    l2 = Dense(32, activation='linear', name=\"hidden_2_dense64\",\n",
    "                    kernel_initializer=RandomUniform(minval=1, maxval=2),\n",
    "                    bias_initializer=RandomUniform())(l1b)\n",
    "    l2a = ELU(alpha=.5,name=\"hidden_2_leakyElu\")(l2)\n",
    "    l2b = BatchNormalization( name='batch_norm_2')(l2a)\n",
    "\n",
    "    l3 = Dense(32, activation='relu', name=\"hidden_3_dense64\",\n",
    "                    kernel_initializer=RandomUniform(minval=.05, maxval=.15),\n",
    "                    bias_initializer=RandomUniform())(l2b)\n",
    "    l3a =ELU(alpha=.5,name=\"hidden_3_leakyElu\")(l2)\n",
    "    l3b = BatchNormalization( name='batch_norm_3')(l3a)\n",
    "\n",
    "    l4 = Dense(no_output, activation='linear', name=\"hidden_4_dense64\",\n",
    "                    kernel_initializer=RandomUniform(minval=.05, maxval=1),\n",
    "                    bias_initializer= RandomNormal())(l3b)\n",
    "\n",
    "    _output_ =l4\n",
    "    #_output_ = Multiply()([l4,mask])\n",
    "    \n",
    "    model = keras.models.Model(inputs=_input_ , outputs=_output_)\n",
    "    filepath = \"results\\parking_noMonotonic_weights{}.hdf5\".format(no_output)\n",
    "    checkpoint = ModelCheckpoint(filepath, monitor=\"val_customMetric\", verbose=0, period = 100, mode = 'min', save_best_only=True)\n",
    "    model.compile(loss=customLoss, metrics=[customMetric],\n",
    "                  optimizer=keras.optimizers.Nadam(lr=.01, beta_1=0.9, beta_2=0.999, clipvalue=0.5, schedule_decay=0.0001))\n",
    "    model.fit(X, Y_TRANSFORMED,\n",
    "              batch_size=batch_size,\n",
    "              epochs=epochs,\n",
    "              validation_data=(X, Y_TRANSFORMED),\n",
    "              callbacks=[checkpoint],\n",
    "              verbose=0)\n",
    "    model.load_weights(filepath)    \n",
    "    score = model.evaluate(X, Y_TRANSFORMED, verbose=0)\n",
    "    print(score)\n",
    "    YPred= model.predict(X)\n",
    "    maxError = np.max(np.min(np.abs(YPred - Y_TRANSFORMED),axis=1),axis=0)\n",
    "    results[no_output] = maxError\n",
    "    models.append(model)\n",
    "print(results)"
   ]
  },
  {
   "cell_type": "code",
   "execution_count": 15,
   "metadata": {},
   "outputs": [
    {
     "data": {
      "text/plain": [
       "<matplotlib.collections.PathCollection at 0x1abc4cad940>"
      ]
     },
     "execution_count": 15,
     "metadata": {},
     "output_type": "execute_result"
    },
    {
     "data": {
      "image/png": "[encoded data removed]",
      "text/plain": [
       "<Figure size 432x288 with 1 Axes>"
      ]
     },
     "metadata": {
      "needs_background": "light"
     },
     "output_type": "display_data"
    }
   ],
   "source": [
    "plt.scatter(X, Y,s = .2, c='blue',marker= '^',zorder=2)\n"
   ]
  },
  {
   "cell_type": "code",
   "execution_count": null,
   "metadata": {},
   "outputs": [],
   "source": []
  }
 ],
 "metadata": {
  "kernelspec": {
   "display_name": "Python 3",
   "language": "python",
   "name": "python3"
  },
  "language_info": {
   "codemirror_mode": {
    "name": "ipython",
    "version": 3
   },
   "file_extension": ".py",
   "mimetype": "text/x-python",
   "name": "python",
   "nbconvert_exporter": "python",
   "pygments_lexer": "ipython3",
   "version": "3.6.7"
  },
  "notify_time": "30"
 },
 "nbformat": 4,
 "nbformat_minor": 2
}
