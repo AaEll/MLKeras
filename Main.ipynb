{
 "cells": [
  {
   "cell_type": "code",
   "execution_count": 14,
   "metadata": {},
   "outputs": [
    {
     "name": "stdout",
     "output_type": "stream",
     "text": [
      "testing random variable with distribution uniform distribution from x=1:5,\n",
      " 1.5566270915188318\n",
      "\n",
      "New simulator for generator for two linear functions from x=1:5,\n",
      " with uniform distribution from x=1:5 input\n",
      "1.0\n",
      "4.538103030522544\n",
      "3.78787287663316\n",
      "1.0\n",
      "1.0\n",
      "3.083746041612589\n",
      "1.0\n",
      "4.481697757777326\n",
      "1.0\n",
      "1.0\n"
     ]
    }
   ],
   "source": [
    "import importlib\n",
    "resources = importlib.import_module(\"resources\")\n",
    "import resources.MonteCarlo as MC\n",
    "\n",
    "import numpy as np\n",
    "import pandas as pd\n",
    "import random\n",
    "random.seed(2010)\n",
    "\n",
    "inv_f = lambda x : MC.inverse_uniform(x,1,5)\n",
    "X = MC.RandomVariable(inv_f,\"uniform distribution from x=1:5\")\n",
    "\n",
    "def two_linear_functions(x,slope1,slope2,intercept1,intercept2,std_dev1=1,std_dev2=1):\n",
    "    coin_toss = random.randint(0,1)\n",
    "    if coin_toss:\n",
    "        return (MC.Linear_GaussianNoise(x,slope1,intercept1,std_dev1))\n",
    "    else:\n",
    "        return (MC.Linear_GaussianNoise(x,slope2,intercept2,std_dev2))\n",
    "cost_f = lambda x : two_linear_functions(x,1,0,0,0)\n",
    "generate_toy_data = MC.Simulator(X,cost_f,'generator for two linear functions from x=1:5', verbose = True)\n",
    "\n",
    "for y in generate_toy_data.sample_repeated(10):\n",
    "    print (y)"
   ]
  },
  {
   "cell_type": "code",
   "execution_count": null,
   "metadata": {},
   "outputs": [],
   "source": [
    "#Import Data\n",
    "\n",
    "# Possible Tasks\n",
    "# Auto-encoding\n",
    "# Predicting next frame\n",
    "# regerssion\n",
    "\n",
    "\n",
    "# Free music arxiv (predict next frame)? \n",
    "# Face age (regression)?\n",
    "# Movie Data (predict next frame)?\n",
    "# Speech audio data (preidct next frame)?\n",
    "\n",
    "\n",
    "\n",
    "\n"
   ]
  },
  {
   "cell_type": "code",
   "execution_count": null,
   "metadata": {},
   "outputs": [],
   "source": [
    "#Construct Network\n",
    "\n",
    "\n",
    "\n",
    "# Define sudoMin loss function\n",
    "\n",
    "\n",
    "# Convolutional layers"
   ]
  },
  {
   "cell_type": "code",
   "execution_count": null,
   "metadata": {},
   "outputs": [],
   "source": [
    "#Visualize Nodes"
   ]
  }
 ],
 "metadata": {
  "kernelspec": {
   "display_name": "Python 3",
   "language": "python",
   "name": "python3"
  },
  "language_info": {
   "codemirror_mode": {
    "name": "ipython",
    "version": 3
   },
   "file_extension": ".py",
   "mimetype": "text/x-python",
   "name": "python",
   "nbconvert_exporter": "python",
   "pygments_lexer": "ipython3",
   "version": "3.6.5"
  }
 },
 "nbformat": 4,
 "nbformat_minor": 2
}
