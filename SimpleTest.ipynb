{
 "cells": [
  {
   "cell_type": "code",
   "execution_count": 1,
   "metadata": {},
   "outputs": [
    {
     "name": "stderr",
     "output_type": "stream",
     "text": [
      "Using TensorFlow backend.\n"
     ]
    }
   ],
   "source": [
    "from __future__ import print_function\n",
    "\n",
    "import importlib\n",
    "resources = importlib.import_module(\"resources\")\n",
    "import resources.MonteCarlo as MC\n",
    "\n",
    "import numpy as np\n",
    "import pandas as pd\n",
    "import random\n",
    "random.seed(2010)\n",
    "\n",
    "import keras\n",
    "from keras.layers import Dense\n",
    "from keras.layers import BatchNormalization\n",
    "from keras.models import Sequential\n",
    "from keras.callbacks import EarlyStopping\n",
    "from keras import backend as K\n"
   ]
  },
  {
   "cell_type": "code",
   "execution_count": 2,
   "metadata": {},
   "outputs": [
    {
     "name": "stdout",
     "output_type": "stream",
     "text": [
      "testing random variable with distribution uniform distribution from x=1:5,\n",
      " 139\n",
      "\n",
      "New simulator for generator for two linear functions from x=1:5,\n",
      " with uniform distribution from x=1:5 input\n",
      "(486.6525117612371, -2421882.102956885)\n",
      "(546.662624463851, -3232002.0356185543)\n",
      "(973.4140484418796, -12358183.281898137)\n",
      "(878.1434984088488, -9809198.217476692)\n",
      "(755.8576184813135, -6968396.335418317)\n",
      "(605.2944401934303, -4136205.024232855)\n",
      "(496.1507553335034, 493026.25884887384)\n",
      "(495.99104578343145, 492629.84408849286)\n",
      "(223.13309886940226, -245601.54698535806)\n",
      "(648.9468843408174, -4881731.999485645)\n"
     ]
    }
   ],
   "source": [
    "inv_f = lambda x : MC.inverse_uniform(x,0,1000)\n",
    "X = MC.RandomVariable(inv_f,\"uniform distribution from x=1:5\")\n",
    "sample_ratio  = .5\n",
    "\n",
    "def two_linear_functions(x,slope1,slope2,intercept1,intercept2,std_dev1=1,std_dev2=1):\n",
    "    coin_toss = (random.random() > sample_ratio)\n",
    "    if coin_toss:\n",
    "        return (MC.Linear_GaussianNoise(x,slope1,intercept1,std_dev1))\n",
    "    else:\n",
    "        return (MC.Linear_GaussianNoise(x,slope2,intercept2,std_dev2))\n",
    "def two_functions(x,slope1,slope2,intercept1,intercept2,std_dev1=1,std_dev2=1):\n",
    "    coin_toss = (random.random() > sample_ratio)\n",
    "    if coin_toss:\n",
    "        return (MC.Quad_GaussianNoise(x,slope1,intercept1,std_dev1))\n",
    "    else:\n",
    "        return (MC.Quad_GaussianNoise(x,slope2,intercept2,std_dev2))\n",
    "\n",
    "def two_split_linear_functions(x,x_stop,x_start,slope1,slope2,intercept1,intercept2,std_dev1=1,std_dev2=1):\n",
    "    if x<x_stop:\n",
    "        return (x,MC.Linear_GaussianNoise(x,slope1,intercept1,std_dev1))\n",
    "    else:\n",
    "        return (x+x_start-x_stop,MC.Linear_GaussianNoise(x+x_start-x_stop,slope2,intercept2,std_dev2))\n",
    "        \n",
    "\n",
    "    \n",
    "#cost_f = lambda x : (x,two_linear_functions(x,1,0,0,0,20,20))\n",
    "#cost_f = lambda x : two_split_linear_functions(x,400,600,5,-2,0,0,5,5)\n",
    "cost_f = lambda x : (x,two_functions(x,np.pi,-16.2,0,20,1,1))\n",
    "generate_toy_data = MC.Simulator(X,cost_f,'generator for two linear functions from x=1:5', verbose = True)\n",
    "\n",
    "for y in generate_toy_data.sample_repeated(10):\n",
    "    print (y)"
   ]
  },
  {
   "cell_type": "code",
   "execution_count": 9,
   "metadata": {},
   "outputs": [
    {
     "name": "stdout",
     "output_type": "stream",
     "text": [
      "x_train shape: (400, 1)\n",
      "400 train samples\n",
      "10 test samples\n",
      "Test loss: 19825233920.0\n"
     ]
    }
   ],
   "source": [
    "#################################\n",
    "#######Construct Network#########\n",
    "#################################\n",
    "\n",
    "\n",
    "# Define sudoMin loss function\n",
    "\n",
    "\n",
    "# Convolutional layers\n",
    "\n",
    "# Example from Keras github\n",
    "\n",
    "\n",
    "batch_size = 128\n",
    "no_predictions = 2\n",
    "epochs = 10000\n",
    "\n",
    "def customLoss(yTrue,yPred):\n",
    "    return K.sum(K.min(K.square(yTrue-yPred),axis = 1))\n",
    "\n",
    "\n",
    "\n",
    "sample_ratio = .5\n",
    "TrainData = list(generate_toy_data.sample_repeated(400))\n",
    "x_train, y_train  = zip(*TrainData)\n",
    "TestData = list(generate_toy_data.sample_repeated(10))\n",
    "x_test, y_test  = zip(*TestData)\n",
    "x_train = np.array(x_train,ndmin = 2).T\n",
    "y_train = np.array(y_train,ndmin = 2).T\n",
    "x_test = np.array(x_test,ndmin = 2).T\n",
    "y_test = np.array(y_test,ndmin = 2).T\n",
    "# the data, split between train and test sets\n",
    "\n",
    "print('x_train shape:', x_train.shape)\n",
    "print(x_train.shape[0], 'train samples')\n",
    "print(x_test.shape[0], 'test samples')\n",
    "\n",
    "# convert class vectors to binary class matrices\n",
    "\n",
    "\n",
    "model = Sequential()\n",
    "model.add(Dense(64, activation='relu',\n",
    "                kernel_initializer='random_uniform', bias_initializer='zeros',\n",
    "                input_shape=[1]))\n",
    "model.add(Dense(64, activation='relu',\n",
    "                kernel_initializer='random_uniform', bias_initializer='zeros'))\n",
    "model.add(Dense(32, activation='relu',\n",
    "                kernel_initializer='random_uniform', bias_initializer='zeros'))\n",
    "model.add(Dense(no_predictions, activation='linear'))\n",
    "\n",
    "model.compile(loss=customLoss,\n",
    "              optimizer=keras.optimizers.Nadam(lr=0.01, beta_1=0.9, beta_2=0.999, epsilon=None, schedule_decay=0.004),\n",
    "              metrics=['accuracy'])\n",
    "\n",
    "model.fit(x_train, y_train,\n",
    "          batch_size=batch_size,\n",
    "          epochs=epochs,\n",
    "          verbose=0,\n",
    "          validation_data=(x_test, y_test))\n",
    "\n",
    "score = model.evaluate(x_test, y_test, verbose=0)\n",
    "print('Test loss:', score[0])\n",
    "\n"
   ]
  },
  {
   "cell_type": "code",
   "execution_count": 10,
   "metadata": {},
   "outputs": [
    {
     "data": {
      "text/plain": [
       "Text(0.5,1,'Multimodal Output, Toy Results')"
      ]
     },
     "execution_count": 10,
     "metadata": {},
     "output_type": "execute_result"
    },
    {
     "data": {
      "image/png": "[encoded data removed]",
      "text/plain": [
       "<Figure size 432x288 with 1 Axes>"
      ]
     },
     "metadata": {
      "needs_background": "light"
     },
     "output_type": "display_data"
    }
   ],
   "source": [
    "import matplotlib.pyplot as plt\n",
    "%matplotlib inline\n",
    "\n",
    "X = np.linspace(5, 1000, 200)\n",
    "Y1,Y2 = zip(*model.predict(X))\n",
    "#Y1,Y2,Y3,Y4 = zip(*model.predict(X))\n",
    "\n",
    "plt.scatter(x_train, y_train,s = .2, c='blue',zorder=2)\n",
    "#plt.scatter(x_test, y_test, s = .2 ,c='black',zorder=2)\n",
    "\n",
    "\n",
    "plt.plot(X,Y1, 'p-',linewidth = 3,zorder=1)\n",
    "plt.plot(X,Y2, 'y-',linewidth = 3,zorder=1)\n",
    "#plt.plot(X,Y3, 'b-',linewidth = 3)\n",
    "#plt.plot(X,Y4, 'y-',linewidth = 3)\n",
    "\n",
    "#plt.ylim(0,300)\n",
    "# Add title and x, y labels\n",
    "plt.title(\"Multimodal Output, Toy Results\", fontsize=16, fontweight='bold')\n"
   ]
  },
  {
   "cell_type": "code",
   "execution_count": 11,
   "metadata": {},
   "outputs": [
    {
     "name": "stdout",
     "output_type": "stream",
     "text": [
      "[[1]\n",
      " [2]]\n",
      "[[1 2 3]\n",
      " [4 5 6]]\n",
      "[[1.]\n",
      " [4.]]\n",
      "[[ 1.  4.  9.]\n",
      " [16. 25. 36.]]\n",
      "[[ 0.  1.  4.]\n",
      " [ 4.  9. 16.]]\n",
      "[0. 4.]\n"
     ]
    }
   ],
   "source": [
    "#Visualize Nodes\n",
    "def customLoss(yTrue,yPred):\n",
    "    t = K.variable(yTrue)\n",
    "    p = K.variable(yPred)\n",
    "    print(yTrue)\n",
    "    print(yPred)\n",
    "    print(K.eval(K.square(t)))\n",
    "    print(K.eval(K.square(p)))\n",
    "    print(K.eval(K.square(t-p)))\n",
    "    \n",
    "    X = K.square(t-p)\n",
    "    X= K.min(K.square(t-p),axis= 1)\n",
    "    return K.eval(X)\n",
    "print(customLoss(np.array([[1],[2]]),np.array([[1,2,3],[4,5,6]])))\n",
    "\n",
    "\n"
   ]
  },
  {
   "cell_type": "code",
   "execution_count": 15,
   "metadata": {},
   "outputs": [
    {
     "data": {
      "text/plain": [
       "[array([[-5.97651093e+04, -3.00975542e+06],\n",
       "        [ 7.61926276e+06,  6.05897581e+04],\n",
       "        [-8.68026825e+03, -1.34381175e+06],\n",
       "        [ 1.40099368e+03,  1.07440125e+05],\n",
       "        [ 1.13099849e+07,  1.00517907e+05],\n",
       "        [-3.70617626e+04, -2.46218054e+06],\n",
       "        [-1.90313930e+04, -6.66190698e+05],\n",
       "        [ 4.42924448e+03,  1.10468376e+05],\n",
       "        [ 4.64454182e+06,  2.52527618e+04],\n",
       "        [ 2.83229605e+03,  1.08871412e+05]])]"
      ]
     },
     "execution_count": 15,
     "metadata": {},
     "output_type": "execute_result"
    }
   ],
   "source": [
    "score = model.evaluate(x_test, y_test, verbose=0)\n",
    "[y_test-model.predict(x_test)]\n"
   ]
  },
  {
   "cell_type": "code",
   "execution_count": null,
   "metadata": {},
   "outputs": [],
   "source": []
  }
 ],
 "metadata": {
  "kernelspec": {
   "display_name": "Python 3",
   "language": "python",
   "name": "python3"
  },
  "language_info": {
   "codemirror_mode": {
    "name": "ipython",
    "version": 3
   },
   "file_extension": ".py",
   "mimetype": "text/x-python",
   "name": "python",
   "nbconvert_exporter": "python",
   "pygments_lexer": "ipython3",
   "version": "3.6.7"
  }
 },
 "nbformat": 4,
 "nbformat_minor": 2
}
