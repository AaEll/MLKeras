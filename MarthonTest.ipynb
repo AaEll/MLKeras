{
 "cells": [
  {
   "cell_type": "code",
   "execution_count": 2,
   "metadata": {},
   "outputs": [
    {
     "name": "stderr",
     "output_type": "stream",
     "text": [
      "Using TensorFlow backend.\n"
     ]
    }
   ],
   "source": [
    "#from __future__ import print_function\n",
    "\n",
    "import numpy as np\n",
    "import pandas as pd\n",
    "import random\n",
    "import datetime\n",
    "import re\n",
    "random.seed(2010)\n",
    "\n",
    "import matplotlib.pyplot as plt\n",
    "import seaborn as sn\n",
    "%matplotlib inline\n",
    "\n",
    "from sklearn.model_selection import train_test_split\n",
    "from sklearn.mixture import GaussianMixture\n",
    "\n",
    "import keras\n",
    "from keras.layers import Dense\n",
    "from keras.layers import BatchNormalization\n",
    "from keras.models import Sequential\n",
    "from keras.callbacks import EarlyStopping\n",
    "from keras import backend as K\n",
    "from keras_tqdm import TQDMCallback, TQDMNotebookCallback\n"
   ]
  },
  {
   "cell_type": "code",
   "execution_count": 3,
   "metadata": {},
   "outputs": [
    {
     "data": {
      "text/html": [
       "<div>\n",
       "<style scoped>\n",
       "    .dataframe tbody tr th:only-of-type {\n",
       "        vertical-align: middle;\n",
       "    }\n",
       "\n",
       "    .dataframe tbody tr th {\n",
       "        vertical-align: top;\n",
       "    }\n",
       "\n",
       "    .dataframe thead th {\n",
       "        text-align: right;\n",
       "    }\n",
       "</style>\n",
       "<table border=\"1\" class=\"dataframe\">\n",
       "  <thead>\n",
       "    <tr style=\"text-align: right;\">\n",
       "      <th></th>\n",
       "      <th>M/F</th>\n",
       "      <th>Age</th>\n",
       "      <th>Official Time</th>\n",
       "    </tr>\n",
       "  </thead>\n",
       "  <tbody>\n",
       "    <tr>\n",
       "      <th>0</th>\n",
       "      <td>M</td>\n",
       "      <td>25</td>\n",
       "      <td>7757</td>\n",
       "    </tr>\n",
       "    <tr>\n",
       "      <th>1</th>\n",
       "      <td>M</td>\n",
       "      <td>30</td>\n",
       "      <td>7788</td>\n",
       "    </tr>\n",
       "    <tr>\n",
       "      <th>2</th>\n",
       "      <td>M</td>\n",
       "      <td>29</td>\n",
       "      <td>7822</td>\n",
       "    </tr>\n",
       "    <tr>\n",
       "      <th>3</th>\n",
       "      <td>M</td>\n",
       "      <td>28</td>\n",
       "      <td>7847</td>\n",
       "    </tr>\n",
       "    <tr>\n",
       "      <th>4</th>\n",
       "      <td>M</td>\n",
       "      <td>32</td>\n",
       "      <td>7849</td>\n",
       "    </tr>\n",
       "    <tr>\n",
       "      <th>5</th>\n",
       "      <td>M</td>\n",
       "      <td>30</td>\n",
       "      <td>7852</td>\n",
       "    </tr>\n",
       "    <tr>\n",
       "      <th>6</th>\n",
       "      <td>M</td>\n",
       "      <td>32</td>\n",
       "      <td>7880</td>\n",
       "    </tr>\n",
       "    <tr>\n",
       "      <th>7</th>\n",
       "      <td>M</td>\n",
       "      <td>39</td>\n",
       "      <td>7962</td>\n",
       "    </tr>\n",
       "    <tr>\n",
       "      <th>8</th>\n",
       "      <td>M</td>\n",
       "      <td>27</td>\n",
       "      <td>8015</td>\n",
       "    </tr>\n",
       "    <tr>\n",
       "      <th>9</th>\n",
       "      <td>M</td>\n",
       "      <td>33</td>\n",
       "      <td>8032</td>\n",
       "    </tr>\n",
       "    <tr>\n",
       "      <th>10</th>\n",
       "      <td>M</td>\n",
       "      <td>33</td>\n",
       "      <td>8032</td>\n",
       "    </tr>\n",
       "    <tr>\n",
       "      <th>11</th>\n",
       "      <td>M</td>\n",
       "      <td>30</td>\n",
       "      <td>8057</td>\n",
       "    </tr>\n",
       "    <tr>\n",
       "      <th>12</th>\n",
       "      <td>M</td>\n",
       "      <td>32</td>\n",
       "      <td>8185</td>\n",
       "    </tr>\n",
       "    <tr>\n",
       "      <th>13</th>\n",
       "      <td>M</td>\n",
       "      <td>31</td>\n",
       "      <td>8282</td>\n",
       "    </tr>\n",
       "    <tr>\n",
       "      <th>14</th>\n",
       "      <td>M</td>\n",
       "      <td>42</td>\n",
       "      <td>8324</td>\n",
       "    </tr>\n",
       "    <tr>\n",
       "      <th>15</th>\n",
       "      <td>M</td>\n",
       "      <td>29</td>\n",
       "      <td>8352</td>\n",
       "    </tr>\n",
       "    <tr>\n",
       "      <th>16</th>\n",
       "      <td>M</td>\n",
       "      <td>30</td>\n",
       "      <td>8357</td>\n",
       "    </tr>\n",
       "    <tr>\n",
       "      <th>17</th>\n",
       "      <td>M</td>\n",
       "      <td>28</td>\n",
       "      <td>8404</td>\n",
       "    </tr>\n",
       "    <tr>\n",
       "      <th>18</th>\n",
       "      <td>M</td>\n",
       "      <td>28</td>\n",
       "      <td>8425</td>\n",
       "    </tr>\n",
       "    <tr>\n",
       "      <th>19</th>\n",
       "      <td>M</td>\n",
       "      <td>26</td>\n",
       "      <td>8435</td>\n",
       "    </tr>\n",
       "    <tr>\n",
       "      <th>20</th>\n",
       "      <td>M</td>\n",
       "      <td>32</td>\n",
       "      <td>8442</td>\n",
       "    </tr>\n",
       "    <tr>\n",
       "      <th>21</th>\n",
       "      <td>M</td>\n",
       "      <td>26</td>\n",
       "      <td>8470</td>\n",
       "    </tr>\n",
       "    <tr>\n",
       "      <th>22</th>\n",
       "      <td>M</td>\n",
       "      <td>32</td>\n",
       "      <td>8476</td>\n",
       "    </tr>\n",
       "    <tr>\n",
       "      <th>23</th>\n",
       "      <td>M</td>\n",
       "      <td>28</td>\n",
       "      <td>8518</td>\n",
       "    </tr>\n",
       "    <tr>\n",
       "      <th>24</th>\n",
       "      <td>M</td>\n",
       "      <td>32</td>\n",
       "      <td>8525</td>\n",
       "    </tr>\n",
       "    <tr>\n",
       "      <th>25</th>\n",
       "      <td>M</td>\n",
       "      <td>32</td>\n",
       "      <td>8550</td>\n",
       "    </tr>\n",
       "    <tr>\n",
       "      <th>26</th>\n",
       "      <td>M</td>\n",
       "      <td>29</td>\n",
       "      <td>8601</td>\n",
       "    </tr>\n",
       "    <tr>\n",
       "      <th>27</th>\n",
       "      <td>M</td>\n",
       "      <td>40</td>\n",
       "      <td>8677</td>\n",
       "    </tr>\n",
       "    <tr>\n",
       "      <th>28</th>\n",
       "      <td>M</td>\n",
       "      <td>32</td>\n",
       "      <td>8684</td>\n",
       "    </tr>\n",
       "    <tr>\n",
       "      <th>29</th>\n",
       "      <td>M</td>\n",
       "      <td>46</td>\n",
       "      <td>8689</td>\n",
       "    </tr>\n",
       "    <tr>\n",
       "      <th>...</th>\n",
       "      <td>...</td>\n",
       "      <td>...</td>\n",
       "      <td>...</td>\n",
       "    </tr>\n",
       "    <tr>\n",
       "      <th>26568</th>\n",
       "      <td>F</td>\n",
       "      <td>56</td>\n",
       "      <td>22070</td>\n",
       "    </tr>\n",
       "    <tr>\n",
       "      <th>26569</th>\n",
       "      <td>F</td>\n",
       "      <td>38</td>\n",
       "      <td>22070</td>\n",
       "    </tr>\n",
       "    <tr>\n",
       "      <th>26570</th>\n",
       "      <td>M</td>\n",
       "      <td>54</td>\n",
       "      <td>22073</td>\n",
       "    </tr>\n",
       "    <tr>\n",
       "      <th>26571</th>\n",
       "      <td>M</td>\n",
       "      <td>48</td>\n",
       "      <td>22076</td>\n",
       "    </tr>\n",
       "    <tr>\n",
       "      <th>26572</th>\n",
       "      <td>F</td>\n",
       "      <td>30</td>\n",
       "      <td>22082</td>\n",
       "    </tr>\n",
       "    <tr>\n",
       "      <th>26573</th>\n",
       "      <td>M</td>\n",
       "      <td>55</td>\n",
       "      <td>22085</td>\n",
       "    </tr>\n",
       "    <tr>\n",
       "      <th>26574</th>\n",
       "      <td>M</td>\n",
       "      <td>72</td>\n",
       "      <td>22145</td>\n",
       "    </tr>\n",
       "    <tr>\n",
       "      <th>26575</th>\n",
       "      <td>M</td>\n",
       "      <td>60</td>\n",
       "      <td>22207</td>\n",
       "    </tr>\n",
       "    <tr>\n",
       "      <th>26576</th>\n",
       "      <td>M</td>\n",
       "      <td>63</td>\n",
       "      <td>22320</td>\n",
       "    </tr>\n",
       "    <tr>\n",
       "      <th>26577</th>\n",
       "      <td>F</td>\n",
       "      <td>40</td>\n",
       "      <td>22331</td>\n",
       "    </tr>\n",
       "    <tr>\n",
       "      <th>26578</th>\n",
       "      <td>F</td>\n",
       "      <td>45</td>\n",
       "      <td>22348</td>\n",
       "    </tr>\n",
       "    <tr>\n",
       "      <th>26579</th>\n",
       "      <td>M</td>\n",
       "      <td>27</td>\n",
       "      <td>22404</td>\n",
       "    </tr>\n",
       "    <tr>\n",
       "      <th>26580</th>\n",
       "      <td>F</td>\n",
       "      <td>66</td>\n",
       "      <td>22460</td>\n",
       "    </tr>\n",
       "    <tr>\n",
       "      <th>26581</th>\n",
       "      <td>F</td>\n",
       "      <td>40</td>\n",
       "      <td>22643</td>\n",
       "    </tr>\n",
       "    <tr>\n",
       "      <th>26582</th>\n",
       "      <td>M</td>\n",
       "      <td>60</td>\n",
       "      <td>23070</td>\n",
       "    </tr>\n",
       "    <tr>\n",
       "      <th>26583</th>\n",
       "      <td>F</td>\n",
       "      <td>35</td>\n",
       "      <td>23189</td>\n",
       "    </tr>\n",
       "    <tr>\n",
       "      <th>26584</th>\n",
       "      <td>M</td>\n",
       "      <td>39</td>\n",
       "      <td>23189</td>\n",
       "    </tr>\n",
       "    <tr>\n",
       "      <th>26585</th>\n",
       "      <td>M</td>\n",
       "      <td>60</td>\n",
       "      <td>23393</td>\n",
       "    </tr>\n",
       "    <tr>\n",
       "      <th>26586</th>\n",
       "      <td>M</td>\n",
       "      <td>56</td>\n",
       "      <td>23824</td>\n",
       "    </tr>\n",
       "    <tr>\n",
       "      <th>26587</th>\n",
       "      <td>M</td>\n",
       "      <td>49</td>\n",
       "      <td>23992</td>\n",
       "    </tr>\n",
       "    <tr>\n",
       "      <th>26588</th>\n",
       "      <td>F</td>\n",
       "      <td>47</td>\n",
       "      <td>24121</td>\n",
       "    </tr>\n",
       "    <tr>\n",
       "      <th>26589</th>\n",
       "      <td>M</td>\n",
       "      <td>46</td>\n",
       "      <td>24268</td>\n",
       "    </tr>\n",
       "    <tr>\n",
       "      <th>26590</th>\n",
       "      <td>M</td>\n",
       "      <td>71</td>\n",
       "      <td>25007</td>\n",
       "    </tr>\n",
       "    <tr>\n",
       "      <th>26591</th>\n",
       "      <td>M</td>\n",
       "      <td>57</td>\n",
       "      <td>25070</td>\n",
       "    </tr>\n",
       "    <tr>\n",
       "      <th>26592</th>\n",
       "      <td>M</td>\n",
       "      <td>37</td>\n",
       "      <td>25230</td>\n",
       "    </tr>\n",
       "    <tr>\n",
       "      <th>26593</th>\n",
       "      <td>F</td>\n",
       "      <td>64</td>\n",
       "      <td>27536</td>\n",
       "    </tr>\n",
       "    <tr>\n",
       "      <th>26594</th>\n",
       "      <td>F</td>\n",
       "      <td>61</td>\n",
       "      <td>28290</td>\n",
       "    </tr>\n",
       "    <tr>\n",
       "      <th>26595</th>\n",
       "      <td>F</td>\n",
       "      <td>66</td>\n",
       "      <td>28773</td>\n",
       "    </tr>\n",
       "    <tr>\n",
       "      <th>26596</th>\n",
       "      <td>M</td>\n",
       "      <td>53</td>\n",
       "      <td>28837</td>\n",
       "    </tr>\n",
       "    <tr>\n",
       "      <th>26597</th>\n",
       "      <td>M</td>\n",
       "      <td>62</td>\n",
       "      <td>29161</td>\n",
       "    </tr>\n",
       "  </tbody>\n",
       "</table>\n",
       "<p>26598 rows × 3 columns</p>\n",
       "</div>"
      ],
      "text/plain": [
       "      M/F  Age  Official Time\n",
       "0       M   25           7757\n",
       "1       M   30           7788\n",
       "2       M   29           7822\n",
       "3       M   28           7847\n",
       "4       M   32           7849\n",
       "5       M   30           7852\n",
       "6       M   32           7880\n",
       "7       M   39           7962\n",
       "8       M   27           8015\n",
       "9       M   33           8032\n",
       "10      M   33           8032\n",
       "11      M   30           8057\n",
       "12      M   32           8185\n",
       "13      M   31           8282\n",
       "14      M   42           8324\n",
       "15      M   29           8352\n",
       "16      M   30           8357\n",
       "17      M   28           8404\n",
       "18      M   28           8425\n",
       "19      M   26           8435\n",
       "20      M   32           8442\n",
       "21      M   26           8470\n",
       "22      M   32           8476\n",
       "23      M   28           8518\n",
       "24      M   32           8525\n",
       "25      M   32           8550\n",
       "26      M   29           8601\n",
       "27      M   40           8677\n",
       "28      M   32           8684\n",
       "29      M   46           8689\n",
       "...    ..  ...            ...\n",
       "26568   F   56          22070\n",
       "26569   F   38          22070\n",
       "26570   M   54          22073\n",
       "26571   M   48          22076\n",
       "26572   F   30          22082\n",
       "26573   M   55          22085\n",
       "26574   M   72          22145\n",
       "26575   M   60          22207\n",
       "26576   M   63          22320\n",
       "26577   F   40          22331\n",
       "26578   F   45          22348\n",
       "26579   M   27          22404\n",
       "26580   F   66          22460\n",
       "26581   F   40          22643\n",
       "26582   M   60          23070\n",
       "26583   F   35          23189\n",
       "26584   M   39          23189\n",
       "26585   M   60          23393\n",
       "26586   M   56          23824\n",
       "26587   M   49          23992\n",
       "26588   F   47          24121\n",
       "26589   M   46          24268\n",
       "26590   M   71          25007\n",
       "26591   M   57          25070\n",
       "26592   M   37          25230\n",
       "26593   F   64          27536\n",
       "26594   F   61          28290\n",
       "26595   F   66          28773\n",
       "26596   M   53          28837\n",
       "26597   M   62          29161\n",
       "\n",
       "[26598 rows x 3 columns]"
      ]
     },
     "execution_count": 3,
     "metadata": {},
     "output_type": "execute_result"
    }
   ],
   "source": [
    "Data = pd.read_csv('data/marathon_results_2015.csv')[['M/F','Age','Official Time']]\n",
    "def convertToSeconds(t):\n",
    "    h,m,s = re.split(':',t)\n",
    "    return int(datetime.timedelta(hours=int(h),minutes=int(m),seconds=int(s)).total_seconds())\n",
    "\n",
    "Data['Official Time'] = Data['Official Time'].apply(convertToSeconds)\n",
    "Data"
   ]
  },
  {
   "cell_type": "code",
   "execution_count": 4,
   "metadata": {},
   "outputs": [
    {
     "data": {
      "text/plain": [
       "[<matplotlib.lines.Line2D at 0x21162c77be0>]"
      ]
     },
     "execution_count": 4,
     "metadata": {},
     "output_type": "execute_result"
    },
    {
     "data": {
      "image/png": "[encoded data removed]",
      "text/plain": [
       "<Figure size 432x288 with 1 Axes>"
      ]
     },
     "metadata": {
      "needs_background": "light"
     },
     "output_type": "display_data"
    }
   ],
   "source": [
    "Males = Data[Data['M/F']=='M']\n",
    "Females = Data[Data['M/F']=='F']\n",
    "\n",
    "plt.plot(Males['Age'],Males['Official Time'],'xr',ms= .01)\n",
    "plt.plot(Females['Age'],Females['Official Time'],'sb',ms= .01)\n"
   ]
  },
  {
   "cell_type": "code",
   "execution_count": 29,
   "metadata": {},
   "outputs": [
    {
     "name": "stdout",
     "output_type": "stream",
     "text": [
      "x_train shape: (26332,)\n",
      "26332 train samples\n",
      "266 test samples\n",
      "Test loss: 100045.33825775376\n"
     ]
    }
   ],
   "source": [
    "#################################\n",
    "#######Construct Network#########\n",
    "#################################\n",
    "\n",
    "# Define sudoMin loss function\n",
    "\n",
    "\n",
    "# Convolutional layers\n",
    "\n",
    "# Example from Keras github\n",
    "\n",
    "\n",
    "batch_size = 128\n",
    "no_predictions = 3\n",
    "epochs = 10000\n",
    "\n",
    "\n",
    "def customLoss(yTrue,yPred):\n",
    "    ratio = .0001\n",
    "    return K.sum(K.min(K.abs(yTrue-yPred),axis = 1))+ ratio*K.sum(K.sum(K.square(yTrue-yPred),axis = 1),axis = 0)\n",
    "\n",
    "\n",
    "train_percent= .99\n",
    "test_percent = .01\n",
    "\n",
    "Train, Test  = train_test_split(Data[['Age','Official Time']], train_size = train_percent,test_size = test_percent)\n",
    "x_train,y_train = Train['Age'],Train['Official Time'] \n",
    "x_test,y_test = Test['Age'],Test['Official Time'] \n",
    "# the data, split between train and test sets\n",
    "\n",
    "print('x_train shape:', x_train.shape)\n",
    "print(x_train.shape[0], 'train samples')\n",
    "print(x_test.shape[0], 'test samples')\n",
    "\n",
    "# convert class vectors to binary class matrices\n",
    "\n",
    "\n",
    "model = Sequential()\n",
    "model.add(Dense(64, activation='relu',\n",
    "                kernel_initializer='random_uniform', bias_initializer='zeros',\n",
    "                input_shape=[1]))\n",
    "model.add(Dense(32, activation='relu',\n",
    "                kernel_initializer='random_uniform', bias_initializer='zeros'))\n",
    "model.add(Dense(no_predictions, activation='linear'))\n",
    "\n",
    "model.compile(loss=customLoss,\n",
    "              optimizer=keras.optimizers.Nadam(lr=0.01, beta_1=0.9, beta_2=0.999, epsilon=None, schedule_decay=0.004),\n",
    "              metrics=['accuracy'])\n",
    "\n",
    "model.fit(x_train, y_train,\n",
    "          batch_size=batch_size,\n",
    "          epochs=epochs,\n",
    "          verbose=0,\n",
    "          validation_data=(x_test, y_test))\n",
    "\n",
    "score = model.evaluate(x_test, y_test, verbose=0)\n",
    "print('Test loss:', score[0])"
   ]
  },
  {
   "cell_type": "code",
   "execution_count": 31,
   "metadata": {},
   "outputs": [
    {
     "data": {
      "text/plain": [
       "Text(0.5,1,'Marathon Test')"
      ]
     },
     "execution_count": 31,
     "metadata": {},
     "output_type": "execute_result"
    },
    {
     "data": {
      "image/png": "[encoded data removed]",
      "text/plain": [
       "<Figure size 432x288 with 1 Axes>"
      ]
     },
     "metadata": {
      "needs_background": "light"
     },
     "output_type": "display_data"
    }
   ],
   "source": [
    "import matplotlib.pyplot as plt\n",
    "%matplotlib inline\n",
    "\n",
    "plt.clf()\n",
    "X = np.linspace(18, 100, 200)\n",
    "#Y1,Y2 = zip(*model.predict(X))\n",
    "model_output_linspace = zip(*model.predict(X))\n",
    "\n",
    "plt.scatter(x_train, y_train,s = .2, c='black',marker= '^',zorder=2)\n",
    "#plt.scatter(x_test, y_test, s = .2 ,c='black',zorder=2)\n",
    "\n",
    "for Y in model_output_linspace:\n",
    "    line, =plt.plot(X,Y, '.b',linewidth = 3,zorder=1)\n",
    "    line.set_color(\"black\")\n",
    "#plt.plot(X,Y3, 'b-',linewidth = 3)\n",
    "#plt.plot(X,Y4, 'y-',linewidth = 3)\n",
    "\n",
    "#plt.ylim(0,300)\n",
    "# Add title and x, y labels\n",
    "plt.title(\"Marathon Test\", fontsize=16, fontweight='bold')\n"
   ]
  },
  {
   "cell_type": "code",
   "execution_count": 32,
   "metadata": {},
   "outputs": [],
   "source": [
    "model_output_individual = zip(*model.predict(Data['Age']))\n",
    "i=0\n",
    "for Y in model_output_individual:\n",
    "    i+=1\n",
    "    Data['abs_residual_{}'.format(i)] = np.abs(Data['Official Time'] - Y)\n",
    "\n",
    "Data['Cluster'] = Data['Res1']<Data['Res2']"
   ]
  },
  {
   "cell_type": "code",
   "execution_count": 15,
   "metadata": {},
   "outputs": [
    {
     "data": {
      "text/plain": [
       "<matplotlib.axes._subplots.AxesSubplot at 0x211654ed898>"
      ]
     },
     "execution_count": 15,
     "metadata": {},
     "output_type": "execute_result"
    },
    {
     "data": {
      "image/png": "[encoded data removed]",
      "text/plain": [
       "<Figure size 432x288 with 2 Axes>"
      ]
     },
     "metadata": {
      "needs_background": "light"
     },
     "output_type": "display_data"
    }
   ],
   "source": [
    "Total = Data.shape[0]\n",
    "C[i]=\n",
    "\n",
    "C1 = ((Data['Res1'] < Data['Res2']) & (Data['M/F'] == 'M')).sum()/Total\n",
    "C2 = ((Data['Res1'] < Data['Res2']) & (Data['M/F'] == 'F')).sum()/Total\n",
    "C3 = ((Data['Res1'] >= Data['Res2']) & (Data['M/F'] == 'M')).sum()/Total\n",
    "C4 = ((Data['Res1'] >= Data['Res2']) & (Data['M/F'] == 'F')).sum()/Total\n",
    "DF = pd.DataFrame([[C1,C2],[C3,C4]],columns = ['M','F'],index  = ['F1','F2'])\n",
    "sn.heatmap(DF, annot=True)"
   ]
  },
  {
   "cell_type": "code",
   "execution_count": 27,
   "metadata": {},
   "outputs": [
    {
     "name": "stdout",
     "output_type": "stream",
     "text": [
      "Accuracy : 0.6829836829836831\n"
     ]
    }
   ],
   "source": [
    "if (C1> C2):\n",
    "    print(\"Accuracy : {}\".format((C1+C4)/(C1+C2+C3+C4)))\n",
    "    Males_TP = Data[(Data['M/F']=='M') & Data['Cluster'] == 1]\n",
    "    Females_TN = Data[(Data['M/F']=='F') & Data['Cluster'] == 0]\n",
    "    Males_FP = Data[(Data['M/F']=='M') & Data['Cluster'] == 0]\n",
    "    Females_FN = Data[(Data['M/F']=='F') & Data['Cluster'] == 1]   \n",
    "else:\n",
    "    print(\"Accuracy : {}\".format((C2+C3)/(C1+C2+C3+C4)))\n",
    "    Males_TP = Data[(Data['M/F']=='M') & Data['Cluster'] == 0]\n",
    "    Females_TN = Data[(Data['M/F']=='F') & Data['Cluster'] == 1]\n",
    "    Males_FP = Data[(Data['M/F']=='M') & Data['Cluster'] == 1]\n",
    "    Females_FN = Data[(Data['M/F']=='F') & Data['Cluster'] == 0]   \n"
   ]
  },
  {
   "cell_type": "code",
   "execution_count": 28,
   "metadata": {},
   "outputs": [
    {
     "data": {
      "text/plain": [
       "[<matplotlib.lines.Line2D at 0x21166932cf8>]"
      ]
     },
     "execution_count": 28,
     "metadata": {},
     "output_type": "execute_result"
    },
    {
     "data": {
      "image/png": "[encoded data removed]",
      "text/plain": [
       "<Figure size 432x288 with 1 Axes>"
      ]
     },
     "metadata": {
      "needs_background": "light"
     },
     "output_type": "display_data"
    }
   ],
   "source": [
    "\n",
    "plt.plot(Males_FP['Age'],Males_FP['Official Time'],'x',color = 'black',ms= .01)\n",
    "plt.plot(Females_FN['Age'],Females_FN['Official Time'],'x',color='black',ms= .01)\n",
    "plt.plot(Males_TP['Age'],Males_TP['Official Time'],'x',color='red',ms= .01)\n",
    "plt.plot(Females_TN['Age'],Females_TN['Official Time'],'x',color='purple',ms= .01)\n"
   ]
  },
  {
   "cell_type": "code",
   "execution_count": 18,
   "metadata": {},
   "outputs": [
    {
     "data": {
      "text/plain": [
       "<matplotlib.axes._subplots.AxesSubplot at 0x21165567a20>"
      ]
     },
     "execution_count": 18,
     "metadata": {},
     "output_type": "execute_result"
    },
    {
     "data": {
      "image/png": "[encoded data removed]",
      "text/plain": [
       "<Figure size 432x288 with 2 Axes>"
      ]
     },
     "metadata": {
      "needs_background": "light"
     },
     "output_type": "display_data"
    }
   ],
   "source": [
    "GM = GaussianMixture(n_components = 2, n_init = 3, init_params = 'random')\n",
    "\n",
    "Data['GM Label'] = GM.fit_predict(Data[['Age','Official Time']])\n",
    "GM_C1 = (Data['GM Label'] & (Data['M/F'] == 'M')).sum()/Total\n",
    "GM_C2 = (Data['GM Label'] & (Data['M/F'] == 'F')).sum()/Total\n",
    "GM_C3 = ((Data['GM Label'] == 0) & (Data['M/F'] == 'M')).sum()/Total\n",
    "GM_C4 = ((Data['GM Label'] == 0) & (Data['M/F'] == 'F')).sum()/Total\n",
    "\n",
    "DF = pd.DataFrame([[GM_C1,GM_C2],[GM_C3,GM_C4]],columns = ['M','F'],index  = ['C1','C2'])\n",
    "sn.heatmap(DF, annot=True)\n",
    "#print(\"Accuracy : {}\".format((GM_C1+GM_C4)/(GM_C1+GM_C2+GM_C3+GM_C4)))"
   ]
  },
  {
   "cell_type": "code",
   "execution_count": 22,
   "metadata": {},
   "outputs": [
    {
     "name": "stdout",
     "output_type": "stream",
     "text": [
      "Accuracy : 0.5960598541243702\n"
     ]
    }
   ],
   "source": [
    "if (GM_C1> GM_C2):\n",
    "    print(\"Accuracy : {}\".format((GM_C1+GM_C4)/(GM_C1+GM_C2+GM_C3+GM_C4)))\n",
    "    Males_TP_GM = Data[(Data['M/F']=='M') & (Data['GM Label'] == 1)]\n",
    "    Females_TN_GM = Data[(Data['M/F']=='F') & Data['GM Label'] == 0]\n",
    "    Males_FP_GM = Data[(Data['M/F']=='M')& Data['GM Label'] == 0]\n",
    "    Females_FN_GM = Data[(Data['M/F']=='F') & Data['GM Label'] == 1]    \n",
    "else:\n",
    "    print(\"Accuracy : {}\".format((GM_C3+GM_C2)/(GM_C1+GM_C2+GM_C3+GM_C4)))\n",
    "    Males_TP_GM = Data[(Data['M/F']=='M') & Data['GM Label'] == 0]\n",
    "    Females_TN_GM = Data[(Data['M/F']=='F') & Data['GM Label'] == 1]\n",
    "    Males_FP_GM = Data[(Data['M/F']=='M') & Data['GM Label'] == 1]\n",
    "    Females_FN_GM = Data[(Data['M/F']=='F') & Data['GM Label'] == 0]   \n"
   ]
  },
  {
   "cell_type": "code",
   "execution_count": 26,
   "metadata": {},
   "outputs": [
    {
     "data": {
      "text/plain": [
       "[<matplotlib.lines.Line2D at 0x211668c6a20>]"
      ]
     },
     "execution_count": 26,
     "metadata": {},
     "output_type": "execute_result"
    },
    {
     "data": {
      "image/png": "[encoded data removed]",
      "text/plain": [
       "<Figure size 432x288 with 1 Axes>"
      ]
     },
     "metadata": {
      "needs_background": "light"
     },
     "output_type": "display_data"
    }
   ],
   "source": [
    "\n",
    "plt.plot(Males_FP_GM['Age'],Males_FP_GM['Official Time'],'x',color = 'black',ms= .01)\n",
    "plt.plot(Females_FN_GM['Age'],Females_FN_GM['Official Time'],'x',color='black',ms= .01)\n",
    "plt.plot(Males_TP_GM['Age'],Males_TP_GM['Official Time'],'x',color='red',ms= .01)\n",
    "plt.plot(Females_TN_GM['Age'],Females_TN_GM['Official Time'],'x',color='purple',ms= .01)\n"
   ]
  },
  {
   "cell_type": "code",
   "execution_count": null,
   "metadata": {},
   "outputs": [],
   "source": []
  }
 ],
 "metadata": {
  "kernelspec": {
   "display_name": "Python 3",
   "language": "python",
   "name": "python3"
  },
  "language_info": {
   "codemirror_mode": {
    "name": "ipython",
    "version": 3
   },
   "file_extension": ".py",
   "mimetype": "text/x-python",
   "name": "python",
   "nbconvert_exporter": "python",
   "pygments_lexer": "ipython3",
   "version": "3.6.7"
  }
 },
 "nbformat": 4,
 "nbformat_minor": 2
}
