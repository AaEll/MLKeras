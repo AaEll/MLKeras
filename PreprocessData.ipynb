{
 "cells": [
  {
   "cell_type": "code",
   "execution_count": 1,
   "metadata": {},
   "outputs": [],
   "source": [
    "from pyspark.sql import SparkSession\n",
    "from functools import reduce\n",
    "from pyspark.conf import SparkConf\n",
    "\n",
    "spark = SparkSession.builder.config('spark.executor.cores','1').master(\"local\").appName(\"RankTimeSeries\").getOrCreate()\n",
    "\n",
    "# 11809233 \n"
   ]
  },
  {
   "cell_type": "code",
   "execution_count": 3,
   "metadata": {
    "scrolled": false
   },
   "outputs": [],
   "source": [
    "from pyspark.sql.functions import unix_timestamp,rank, desc\n",
    "from pyspark.sql.window import Window\n",
    "\n",
    "year = 2015\n",
    "no_chunks = 100\n",
    "\n",
    "df = spark.read.format(\"csv\").option(\"header\", \"true\").load('data/Parking_Violations_Issued_-_Fiscal_Year_{}.csv'.format(year))\n",
    "\n",
    "Dates = df.select('Summons Number', unix_timestamp('Issue Date', 'MM/dd/yyyy').alias('date')).fillna(0)\n",
    "oldColumns = Dates.schema.names\n",
    "newColumns = [\"SN\", \"date\"]\n",
    "Dates = reduce(lambda data, idx: data.withColumnRenamed(oldColumns[idx], newColumns[idx]), range(len(oldColumns)), Dates)\n",
    "#Dates.printSchema()\n",
    "#Dates.show()\n",
    "Dates.createOrReplaceTempView(\"initial\")\n",
    "Ranked = spark.sql(\"\"\"\n",
    "    SELECT i.SN, i.position, FLOOR(i.r*{number_of_chunks}) as chunk\n",
    "    FROM (\n",
    "    SELECT i.SN, ROW_NUMBER() OVER (ORDER BY i.date DESC) AS position, RAND() as r\n",
    "    FROM initial as i) as i\n",
    "    \"\"\".format(number_of_chunks = no_chunks))\n",
    "Ranked.createOrReplaceTempView(\"initial\")\n",
    "\n",
    "\n",
    "Chunk0 = spark.sql(\"\"\"\n",
    "    SELECT i.SN, i.position\n",
    "    FROM initial as i\n",
    "    WHERE i.chunk = 0\n",
    "\"\"\")\n",
    "Chunk1 = spark.sql(\"\"\"\n",
    "    SELECT i.SN, i.position\n",
    "    FROM initial as i\n",
    "    WHERE i.chunk = 1\n",
    "\"\"\")\n",
    "\n",
    "#Ranked = Dates.withColumn(\"position\", rank().over(window))\n",
    "#Ranked.coalesce(1)\n",
    "\n",
    "#Ranked.write.format('com.databricks.spark.csv').save('data/ranked',mode='overwrite')\n",
    "\n"
   ]
  },
  {
   "cell_type": "code",
   "execution_count": 4,
   "metadata": {},
   "outputs": [],
   "source": [
    "#Ranked.show()"
   ]
  },
  {
   "cell_type": "code",
   "execution_count": 5,
   "metadata": {
    "scrolled": false
   },
   "outputs": [],
   "source": [
    "\n",
    "X = Chunk0.rdd.collect() "
   ]
  },
  {
   "cell_type": "code",
   "execution_count": null,
   "metadata": {},
   "outputs": [],
   "source": [
    "pyspark"
   ]
  },
  {
   "cell_type": "code",
   "execution_count": null,
   "metadata": {},
   "outputs": [],
   "source": [
    "df = spark.read.format(\"csv\").option(\"header\", \"true\").load('data/nyc-parking-tickets/Parking_Violations_Issued_-_Fiscal_Year_2015.csv')\n",
    "\n",
    "Dates = df.select('Summons Number')\n",
    "window = Window.orderBy(desc('Summons Number'))\n",
    "Ranked = Dates.withColumn(\"position\", rank().over(window))\n",
    "print(Ranked.count())\n",
    "\n"
   ]
  }
 ],
 "metadata": {
  "kernelspec": {
   "display_name": "Python 3",
   "language": "python",
   "name": "python3"
  }
 },
 "nbformat": 4,
 "nbformat_minor": 2
}
