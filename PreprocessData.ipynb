{
 "cells": [
  {
   "cell_type": "code",
   "execution_count": 1,
   "metadata": {},
   "outputs": [],
   "source": [
    "from pyspark.sql import SparkSession\n",
    "from functools import reduce\n",
    "from pyspark.conf import SparkConf\n",
    "\n",
    "spark = SparkSession.builder.config('spark.executor.cores','2').master(\"local\").appName(\"RankTimeSeries\").getOrCreate()\n",
    "\n",
    "# 11809233 \n"
   ]
  },
  {
   "cell_type": "code",
   "execution_count": 2,
   "metadata": {
    "scrolled": false
   },
   "outputs": [],
   "source": [
    "from pyspark.sql.functions import unix_timestamp,rank, desc\n",
    "from pyspark.sql.window import Window\n",
    "\n",
    "year = 2015\n",
    "no_chunks = 100\n",
    "\n",
    "df = spark.read.format(\"csv\").option(\"header\", \"true\").load('data/Parking_Violations_Issued_-_Fiscal_Year_{}.csv'.format(year))\n",
    "\n",
    "Dates = df.select('Summons Number', unix_timestamp('Issue Date', 'MM/dd/yyyy').alias('date')).fillna(0)\n",
    "oldColumns = Dates.schema.names\n",
    "newColumns = [\"SN\", \"date\"]\n",
    "Dates = reduce(lambda data, idx: data.withColumnRenamed(oldColumns[idx], newColumns[idx]), range(len(oldColumns)), Dates)\n",
    "#Dates.printSchema()\n",
    "#Dates.show()\n",
    "Dates.createOrReplaceTempView(\"initial\")\n",
    "Ranked = spark.sql(\"\"\"\n",
    "    SELECT i.SN, ROW_NUMBER() OVER (ORDER BY i.date DESC) AS position, FLOOR(RAND()*{number_of_chunks}) as chunk\n",
    "    FROM initial as i\n",
    "    \"\"\".format(number_of_chunks = no_chunks))\n",
    "Ranked.createOrReplaceTempView(\"initial\")\n",
    "\n",
    "\n",
    "Chunk0 = spark.sql(\"\"\"\n",
    "    SELECT i.SN, i.position\n",
    "    FROM initial as i\n",
    "    WHERE i.chunk = 0\n",
    "\"\"\")\n",
    "Chunk1 = spark.sql(\"\"\"\n",
    "    SELECT i.SN, i.position\n",
    "    FROM initial as i\n",
    "    WHERE i.chunk = 1\n",
    "\"\"\")\n",
    "\n",
    "#Ranked = Dates.withColumn(\"position\", rank().over(window))\n",
    "#Ranked.coalesce(1)\n",
    "\n",
    "#Ranked.write.format('com.databricks.spark.csv').save('data/ranked',mode='overwrite')\n",
    "\n"
   ]
  },
  {
   "cell_type": "code",
   "execution_count": 3,
   "metadata": {},
   "outputs": [],
   "source": [
    "RDD.persist"
   ]
  },
  {
   "cell_type": "code",
   "execution_count": 4,
   "metadata": {
    "scrolled": false
   },
   "outputs": [],
   "source": [
    "\n",
    "X = Chunk0.rdd.collect() "
   ]
  },
  {
   "cell_type": "code",
   "execution_count": null,
   "metadata": {},
   "outputs": [],
   "source": [
    "Chunk0.coalesce(1).write.csv('data/preprocessed')"
   ]
  },
  {
   "cell_type": "code",
   "execution_count": null,
   "metadata": {},
   "outputs": [],
   "source": [
    "df = spark.read.format(\"csv\").option(\"header\", \"true\").load('data/nyc-parking-tickets/Parking_Violations_Issued_-_Fiscal_Year_2015.csv')\n",
    "\n",
    "Dates = df.select('Summons Number')\n",
    "window = Window.orderBy(desc('Summons Number'))\n",
    "Ranked = Dates.withColumn(\"position\", rank().over(window))\n",
    "print(Ranked.count())\n",
    "\n"
   ]
  }
 ],
 "metadata": {
  "kernelspec": {
   "display_name": "Python 3",
   "language": "python",
   "name": "python3"
  },
  "language_info": {
   "codemirror_mode": {
    "name": "ipython",
    "version": 3
   },
   "file_extension": ".py",
   "mimetype": "text/x-python",
   "name": "python",
   "nbconvert_exporter": "python",
   "pygments_lexer": "ipython3",
   "version": "3.6.7"
  }
 },
 "nbformat": 4,
 "nbformat_minor": 2
}
